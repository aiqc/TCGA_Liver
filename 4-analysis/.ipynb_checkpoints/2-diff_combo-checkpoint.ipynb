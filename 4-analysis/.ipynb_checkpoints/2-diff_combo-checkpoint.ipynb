{
 "cells": [
  {
   "cell_type": "code",
   "execution_count": 81,
   "id": "ae43171c-14ae-42e3-9192-57c47522ef15",
   "metadata": {
    "tags": []
   },
   "outputs": [],
   "source": [
    "import os, json\n",
    "from os.path import join as pj\n",
    "import pandas as pd\n",
    "from tqdm import tqdm"
   ]
  },
  {
   "cell_type": "code",
   "execution_count": 82,
   "id": "7621e36b-d6bc-4b26-9689-bcdce3c5e830",
   "metadata": {
    "tags": []
   },
   "outputs": [],
   "source": [
    "%%capture\n",
    "pd.set_option('display.max_colwidth', -1)\n",
    "pd.set_option('display.max_rows', None)"
   ]
  },
  {
   "cell_type": "code",
   "execution_count": 83,
   "id": "89d5ebb6-6942-4340-8bae-a9c4f9e747db",
   "metadata": {
    "tags": []
   },
   "outputs": [],
   "source": [
    "dir_home      = os.path.expanduser('~')\n",
    "dir_project   = '/mnt/4TB/TCGA_Liver'\n",
    "dir_scripts   = pj(dir_project, 'scripts')\n",
    "dir_analysis  = pj(dir_scripts, '4-analysis')\n",
    "\n",
    "path_trainGeneImpact  = pj(dir_analysis, '1-matrix_trainGeneImpact.pq')"
   ]
  },
  {
   "cell_type": "markdown",
   "id": "c5bf087a-678c-4ec1-86a6-c482ff2dc483",
   "metadata": {
    "tags": []
   },
   "source": [
    "---"
   ]
  },
  {
   "cell_type": "markdown",
   "id": "42073c94-906e-4db4-a4eb-614ea0092285",
   "metadata": {
    "tags": []
   },
   "source": [
    "## Genes"
   ]
  },
  {
   "cell_type": "code",
   "execution_count": 84,
   "id": "7a7a5002-d989-4237-87c8-0765777b7e38",
   "metadata": {
    "tags": []
   },
   "outputs": [
    {
     "name": "stderr",
     "output_type": "stream",
     "text": [
      "100%|█████████████████████████████████████████████████████████████████████████████████████████████████████████████████████████████| 19188/19188 [00:27<00:00, 691.21it/s]\n"
     ]
    }
   ],
   "source": [
    "df = pd.read_parquet(path_trainGeneImpact)\n",
    "cols = df.columns.tolist()\n",
    "cols.remove('vital_status')\n",
    "cols.remove('file_id')\n",
    "df_a = df[df['vital_status']=='Alive']\n",
    "df_d = df[df['vital_status']=='Dead'] \n",
    "size_a = df_a.shape[0]\n",
    "size_d = df_d.shape[0]\n",
    "\n",
    "score = 0.64\n",
    "score_str = str(score*100).split('.')[0]\n",
    "\n",
    "variances = []\n",
    "for c in tqdm(cols):\n",
    "    variance = {}\n",
    "    \n",
    "    # what percent of survivors are meaningfully mutated?\n",
    "    num_a = df_a[df_a[c]>score].shape[0]\n",
    "    # what percent of dead patients are meaningfully mutated?\n",
    "    num_d = df_d[df_d[c]>score].shape[0]\n",
    "    \n",
    "    pct_a = num_a/size_a\n",
    "    pct_d = num_d/size_d\n",
    "    \n",
    "    pct_variance = pct_a - pct_d\n",
    "    abs_variance = abs(pct_variance)\n",
    "    \n",
    "    # is the difference in pct meaningful? \n",
    "    # e.g. 6% difference could be 0%vs6% or 30%vs36%\n",
    "    max_diff = max(pct_a, pct_d)\n",
    "    if (max_diff==0):\n",
    "        scaled_variance = 0\n",
    "    else:\n",
    "        scaled_variance = abs_variance/max_diff\n",
    "    \n",
    "    score_diff = pct_variance * scaled_variance\n",
    "    OncoScore  = abs_variance * scaled_variance\n",
    "    # Helps accentuate points on plot. Surprisingly tricky to get this feeling right.\n",
    "    score_size = (OncoScore * 100) ** 2\n",
    "    \n",
    "    variance['Gene']        = c\n",
    "    variance['Pct_Alive']   = pct_a\n",
    "    variance['Pct_Dead']    = pct_d\n",
    "    variance['Pct_Diff']    = pct_variance\n",
    "    variance['Abs_Diff']    = abs_variance\n",
    "    variance['Scaled_Diff'] = scaled_variance\n",
    "    variance['Score_Diff']  = score_diff\n",
    "    variance['OncoScore']   = OncoScore\n",
    "    variance['Score_Size']  = score_size\n",
    "    \n",
    "    variances.append(variance)"
   ]
  },
  {
   "cell_type": "code",
   "execution_count": 85,
   "id": "62656d18-f500-41ca-8b2a-41b4a9694e91",
   "metadata": {
    "tags": []
   },
   "outputs": [],
   "source": [
    "df_var = pd.DataFrame(variances)"
   ]
  },
  {
   "cell_type": "code",
   "execution_count": 86,
   "id": "7a772137-84f5-4803-918b-cfa1e463802d",
   "metadata": {
    "tags": []
   },
   "outputs": [],
   "source": [
    "df_var.to_parquet('2-gene_diff.pq')"
   ]
  },
  {
   "cell_type": "markdown",
   "id": "7534398f-678e-433b-8424-5feffd8d35a3",
   "metadata": {
    "tags": []
   },
   "source": [
    "^ The pancancer scripts use the concatenated gene column, so don't delete this file"
   ]
  },
  {
   "cell_type": "markdown",
   "id": "3a38eab8-1e79-4091-aa86-350c88163567",
   "metadata": {
    "tags": []
   },
   "source": [
    "---"
   ]
  },
  {
   "cell_type": "code",
   "execution_count": 87,
   "id": "fcd8a2cd-5ce5-4e95-a91a-c45a75c2b4f4",
   "metadata": {
    "tags": []
   },
   "outputs": [],
   "source": [
    "df_polish = df_var.sort_values('OncoScore', ascending=False)"
   ]
  },
  {
   "cell_type": "code",
   "execution_count": 88,
   "id": "a73dbc4d-73ee-41b2-ac9a-f57876c65e5d",
   "metadata": {
    "tags": []
   },
   "outputs": [],
   "source": [
    "df_polish = df_polish[\n",
    "        ~(df_polish['Gene'].str.contains('_OR|_KRT|_ZNF'))\n",
    "]"
   ]
  },
  {
   "cell_type": "code",
   "execution_count": 89,
   "id": "9ba43853-5283-40c6-b42b-d791de04c225",
   "metadata": {
    "tags": []
   },
   "outputs": [],
   "source": [
    "df_polish[['VEP_Impact', 'Gene']] = df_polish['Gene'].str.split('_', expand=True)"
   ]
  },
  {
   "cell_type": "code",
   "execution_count": 90,
   "id": "6c5e9868-e0d0-49d0-9f99-7e878c464ba3",
   "metadata": {
    "tags": []
   },
   "outputs": [],
   "source": [
    "df_polish['VEP_Impact'] = df_polish['VEP_Impact'].str.title()"
   ]
  },
  {
   "cell_type": "code",
   "execution_count": 91,
   "id": "1c62da27-a18c-430f-a9c3-e749101631fd",
   "metadata": {
    "tags": []
   },
   "outputs": [],
   "source": [
    "df_polish = df_polish.filter([\n",
    "    'Gene',\n",
    "    'VEP_Impact',\n",
    "    'Pct_Alive',\n",
    "    'Pct_Dead',\n",
    "    'Pct_Diff',\n",
    "    'Abs_Diff',\n",
    "    'Scaled_Diff',\n",
    "    'Score_Diff',\n",
    "    'OncoScore',\n",
    "    'Score_Size'\n",
    "])"
   ]
  },
  {
   "cell_type": "code",
   "execution_count": 92,
   "id": "92a0efbb-fdea-4f7d-ba07-e933edb13fb8",
   "metadata": {
    "tags": []
   },
   "outputs": [],
   "source": [
    "df_polish[\"Pct_Alive\"]   = df_polish[\"Pct_Alive\"] * 100\n",
    "df_polish[\"Pct_Dead\"]    = df_polish[\"Pct_Dead\"] * 100\n",
    "df_polish[\"Pct_Diff\"]    = df_polish[\"Pct_Diff\"] * 100\n",
    "df_polish[\"Abs_Diff\"]    = df_polish[\"Abs_Diff\"] * 100\n",
    "df_polish[\"Scaled_Diff\"] = df_polish[\"Scaled_Diff\"] * 100\n",
    "df_polish[\"Score_Diff\"]  = df_polish[\"Score_Diff\"] * 100\n",
    "df_polish[\"OncoScore\"]   = df_polish[\"OncoScore\"] * 100\n",
    "# Already multiplied\n",
    "df_polish[\"Score_Size\"]  = df_polish[\"Score_Size\"]"
   ]
  },
  {
   "cell_type": "code",
   "execution_count": 93,
   "id": "67f6a16f-3200-46a4-a9dc-d2d3526b235b",
   "metadata": {
    "tags": []
   },
   "outputs": [],
   "source": [
    "df_polish = df_polish.round(2).reset_index(drop=True)"
   ]
  },
  {
   "cell_type": "code",
   "execution_count": 94,
   "id": "01c46ba0-4b9b-4c2e-9639-014fa49a3982",
   "metadata": {
    "tags": []
   },
   "outputs": [],
   "source": [
    "df_polish.to_parquet(\"2-geneDiff_polish.pq\")"
   ]
  },
  {
   "cell_type": "markdown",
   "id": "8441f2d7-6f56-4822-b8fb-1cc9299f9676",
   "metadata": {
    "tags": []
   },
   "source": [
    "---"
   ]
  },
  {
   "cell_type": "code",
   "execution_count": 95,
   "id": "f9d48fe0-b4a0-49fa-87c8-24e2c9d2b41a",
   "metadata": {
    "tags": []
   },
   "outputs": [],
   "source": [
    "combo = 0.16\n",
    "combo_str = str(combo*100).split('.')[0]"
   ]
  },
  {
   "cell_type": "code",
   "execution_count": 96,
   "id": "ecf24199-d47e-47af-b205-2dc29afde6a5",
   "metadata": {
    "tags": []
   },
   "outputs": [
    {
     "ename": "KeyError",
     "evalue": "'AbsDiff*ScaledDiff'",
     "output_type": "error",
     "traceback": [
      "\u001b[0;31m---------------------------------------------------------------------------\u001b[0m",
      "\u001b[0;31mKeyError\u001b[0m                                  Traceback (most recent call last)",
      "\u001b[0;32m~/anaconda3/envs/aiqc_dev/lib/python3.7/site-packages/pandas/core/indexes/base.py\u001b[0m in \u001b[0;36mget_loc\u001b[0;34m(self, key, method, tolerance)\u001b[0m\n\u001b[1;32m   3360\u001b[0m             \u001b[0;32mtry\u001b[0m\u001b[0;34m:\u001b[0m\u001b[0;34m\u001b[0m\u001b[0;34m\u001b[0m\u001b[0m\n\u001b[0;32m-> 3361\u001b[0;31m                 \u001b[0;32mreturn\u001b[0m \u001b[0mself\u001b[0m\u001b[0;34m.\u001b[0m\u001b[0m_engine\u001b[0m\u001b[0;34m.\u001b[0m\u001b[0mget_loc\u001b[0m\u001b[0;34m(\u001b[0m\u001b[0mcasted_key\u001b[0m\u001b[0;34m)\u001b[0m\u001b[0;34m\u001b[0m\u001b[0;34m\u001b[0m\u001b[0m\n\u001b[0m\u001b[1;32m   3362\u001b[0m             \u001b[0;32mexcept\u001b[0m \u001b[0mKeyError\u001b[0m \u001b[0;32mas\u001b[0m \u001b[0merr\u001b[0m\u001b[0;34m:\u001b[0m\u001b[0;34m\u001b[0m\u001b[0;34m\u001b[0m\u001b[0m\n",
      "\u001b[0;32m~/anaconda3/envs/aiqc_dev/lib/python3.7/site-packages/pandas/_libs/index.pyx\u001b[0m in \u001b[0;36mpandas._libs.index.IndexEngine.get_loc\u001b[0;34m()\u001b[0m\n",
      "\u001b[0;32m~/anaconda3/envs/aiqc_dev/lib/python3.7/site-packages/pandas/_libs/index.pyx\u001b[0m in \u001b[0;36mpandas._libs.index.IndexEngine.get_loc\u001b[0;34m()\u001b[0m\n",
      "\u001b[0;32mpandas/_libs/hashtable_class_helper.pxi\u001b[0m in \u001b[0;36mpandas._libs.hashtable.PyObjectHashTable.get_item\u001b[0;34m()\u001b[0m\n",
      "\u001b[0;32mpandas/_libs/hashtable_class_helper.pxi\u001b[0m in \u001b[0;36mpandas._libs.hashtable.PyObjectHashTable.get_item\u001b[0;34m()\u001b[0m\n",
      "\u001b[0;31mKeyError\u001b[0m: 'AbsDiff*ScaledDiff'",
      "\nThe above exception was the direct cause of the following exception:\n",
      "\u001b[0;31mKeyError\u001b[0m                                  Traceback (most recent call last)",
      "\u001b[0;32m/tmp/ipykernel_201557/3554496243.py\u001b[0m in \u001b[0;36m<module>\u001b[0;34m\u001b[0m\n\u001b[1;32m      1\u001b[0m df_mod = df_var[\n\u001b[1;32m      2\u001b[0m     \u001b[0;34m(\u001b[0m\u001b[0mdf_var\u001b[0m\u001b[0;34m[\u001b[0m\u001b[0;34m'AbsDiff*ScaledDiff'\u001b[0m\u001b[0;34m]\u001b[0m\u001b[0;34m>=\u001b[0m\u001b[0mcombo\u001b[0m\u001b[0;34m)\u001b[0m \u001b[0;34m&\u001b[0m\u001b[0;34m\u001b[0m\u001b[0;34m\u001b[0m\u001b[0m\n\u001b[0;32m----> 3\u001b[0;31m     \u001b[0;34m~\u001b[0m\u001b[0;34m(\u001b[0m\u001b[0mdf_var\u001b[0m\u001b[0;34m[\u001b[0m\u001b[0;34m'Gene'\u001b[0m\u001b[0;34m]\u001b[0m\u001b[0;34m.\u001b[0m\u001b[0mstr\u001b[0m\u001b[0;34m.\u001b[0m\u001b[0mcontains\u001b[0m\u001b[0;34m(\u001b[0m\u001b[0;34m'_OR|_KRT'\u001b[0m\u001b[0;34m)\u001b[0m\u001b[0;34m)\u001b[0m \u001b[0;34m&\u001b[0m\u001b[0;34m\u001b[0m\u001b[0;34m\u001b[0m\u001b[0m\n\u001b[0m\u001b[1;32m      4\u001b[0m     \u001b[0;34m~\u001b[0m\u001b[0;34m(\u001b[0m\u001b[0mdf_var\u001b[0m\u001b[0;34m[\u001b[0m\u001b[0;34m'Gene'\u001b[0m\u001b[0;34m]\u001b[0m\u001b[0;34m.\u001b[0m\u001b[0mstr\u001b[0m\u001b[0;34m.\u001b[0m\u001b[0mstartswith\u001b[0m\u001b[0;34m(\u001b[0m\u001b[0;34m'HIGH_'\u001b[0m\u001b[0;34m)\u001b[0m\u001b[0;34m)\u001b[0m\u001b[0;34m\u001b[0m\u001b[0;34m\u001b[0m\u001b[0m\n\u001b[1;32m      5\u001b[0m ]\n",
      "\u001b[0;32m~/anaconda3/envs/aiqc_dev/lib/python3.7/site-packages/pandas/core/frame.py\u001b[0m in \u001b[0;36m__getitem__\u001b[0;34m(self, key)\u001b[0m\n\u001b[1;32m   3456\u001b[0m             \u001b[0;32mif\u001b[0m \u001b[0mself\u001b[0m\u001b[0;34m.\u001b[0m\u001b[0mcolumns\u001b[0m\u001b[0;34m.\u001b[0m\u001b[0mnlevels\u001b[0m \u001b[0;34m>\u001b[0m \u001b[0;36m1\u001b[0m\u001b[0;34m:\u001b[0m\u001b[0;34m\u001b[0m\u001b[0;34m\u001b[0m\u001b[0m\n\u001b[1;32m   3457\u001b[0m                 \u001b[0;32mreturn\u001b[0m \u001b[0mself\u001b[0m\u001b[0;34m.\u001b[0m\u001b[0m_getitem_multilevel\u001b[0m\u001b[0;34m(\u001b[0m\u001b[0mkey\u001b[0m\u001b[0;34m)\u001b[0m\u001b[0;34m\u001b[0m\u001b[0;34m\u001b[0m\u001b[0m\n\u001b[0;32m-> 3458\u001b[0;31m             \u001b[0mindexer\u001b[0m \u001b[0;34m=\u001b[0m \u001b[0mself\u001b[0m\u001b[0;34m.\u001b[0m\u001b[0mcolumns\u001b[0m\u001b[0;34m.\u001b[0m\u001b[0mget_loc\u001b[0m\u001b[0;34m(\u001b[0m\u001b[0mkey\u001b[0m\u001b[0;34m)\u001b[0m\u001b[0;34m\u001b[0m\u001b[0;34m\u001b[0m\u001b[0m\n\u001b[0m\u001b[1;32m   3459\u001b[0m             \u001b[0;32mif\u001b[0m \u001b[0mis_integer\u001b[0m\u001b[0;34m(\u001b[0m\u001b[0mindexer\u001b[0m\u001b[0;34m)\u001b[0m\u001b[0;34m:\u001b[0m\u001b[0;34m\u001b[0m\u001b[0;34m\u001b[0m\u001b[0m\n\u001b[1;32m   3460\u001b[0m                 \u001b[0mindexer\u001b[0m \u001b[0;34m=\u001b[0m \u001b[0;34m[\u001b[0m\u001b[0mindexer\u001b[0m\u001b[0;34m]\u001b[0m\u001b[0;34m\u001b[0m\u001b[0;34m\u001b[0m\u001b[0m\n",
      "\u001b[0;32m~/anaconda3/envs/aiqc_dev/lib/python3.7/site-packages/pandas/core/indexes/base.py\u001b[0m in \u001b[0;36mget_loc\u001b[0;34m(self, key, method, tolerance)\u001b[0m\n\u001b[1;32m   3361\u001b[0m                 \u001b[0;32mreturn\u001b[0m \u001b[0mself\u001b[0m\u001b[0;34m.\u001b[0m\u001b[0m_engine\u001b[0m\u001b[0;34m.\u001b[0m\u001b[0mget_loc\u001b[0m\u001b[0;34m(\u001b[0m\u001b[0mcasted_key\u001b[0m\u001b[0;34m)\u001b[0m\u001b[0;34m\u001b[0m\u001b[0;34m\u001b[0m\u001b[0m\n\u001b[1;32m   3362\u001b[0m             \u001b[0;32mexcept\u001b[0m \u001b[0mKeyError\u001b[0m \u001b[0;32mas\u001b[0m \u001b[0merr\u001b[0m\u001b[0;34m:\u001b[0m\u001b[0;34m\u001b[0m\u001b[0;34m\u001b[0m\u001b[0m\n\u001b[0;32m-> 3363\u001b[0;31m                 \u001b[0;32mraise\u001b[0m \u001b[0mKeyError\u001b[0m\u001b[0;34m(\u001b[0m\u001b[0mkey\u001b[0m\u001b[0;34m)\u001b[0m \u001b[0;32mfrom\u001b[0m \u001b[0merr\u001b[0m\u001b[0;34m\u001b[0m\u001b[0;34m\u001b[0m\u001b[0m\n\u001b[0m\u001b[1;32m   3364\u001b[0m \u001b[0;34m\u001b[0m\u001b[0m\n\u001b[1;32m   3365\u001b[0m         \u001b[0;32mif\u001b[0m \u001b[0mis_scalar\u001b[0m\u001b[0;34m(\u001b[0m\u001b[0mkey\u001b[0m\u001b[0;34m)\u001b[0m \u001b[0;32mand\u001b[0m \u001b[0misna\u001b[0m\u001b[0;34m(\u001b[0m\u001b[0mkey\u001b[0m\u001b[0;34m)\u001b[0m \u001b[0;32mand\u001b[0m \u001b[0;32mnot\u001b[0m \u001b[0mself\u001b[0m\u001b[0;34m.\u001b[0m\u001b[0mhasnans\u001b[0m\u001b[0;34m:\u001b[0m\u001b[0;34m\u001b[0m\u001b[0;34m\u001b[0m\u001b[0m\n",
      "\u001b[0;31mKeyError\u001b[0m: 'AbsDiff*ScaledDiff'"
     ]
    }
   ],
   "source": [
    "df_mod = df_var[\n",
    "    (df_var['AbsDiff*ScaledDiff']>=combo) &\n",
    "    ~(df_var['Gene'].str.contains('_OR|_KRT')) &\n",
    "    ~(df_var['Gene'].str.startswith('HIGH_'))\n",
    "]\n",
    "\n",
    "df_mod.sort_values('AbsDiff*ScaledDiff', ascending=False).round(2)"
   ]
  },
  {
   "cell_type": "code",
   "execution_count": null,
   "id": "366e5458-4116-43ba-8d52-90f4b40b1797",
   "metadata": {
    "tags": []
   },
   "outputs": [],
   "source": [
    "mods = df_mod.sort_values('AbsDiff*ScaledDiff', ascending=False)['Pct_Dead']"
   ]
  },
  {
   "cell_type": "code",
   "execution_count": null,
   "id": "52c30a23-62c5-4792-89a2-f4318c7a6870",
   "metadata": {
    "tags": []
   },
   "outputs": [],
   "source": [
    "[print(m) for m in mods]"
   ]
  },
  {
   "cell_type": "code",
   "execution_count": null,
   "id": "856da98b-bb0a-4aa9-820b-dd725722ff42",
   "metadata": {
    "tags": []
   },
   "outputs": [],
   "source": [
    "combo_high = 0.09"
   ]
  },
  {
   "cell_type": "code",
   "execution_count": null,
   "id": "ce854b72-f0f6-4a03-bcbd-481424bcd342",
   "metadata": {
    "tags": []
   },
   "outputs": [],
   "source": [
    "df_high = df_var[           \n",
    "    (df_var['AbsDiff*ScaledDiff']>=combo_high) &\n",
    "    (df_var['Gene'].str.startswith('HIGH_')) &\n",
    "    ~(df_var['Gene'].str.contains('_OR|_KRT'))\n",
    "]\n",
    "\n",
    "df_high.sort_values('AbsDiff*ScaledDiff', ascending=False).round(2)"
   ]
  },
  {
   "cell_type": "code",
   "execution_count": null,
   "id": "1b9769c6-c0c2-4e01-aac6-2362219d0910",
   "metadata": {
    "tags": []
   },
   "outputs": [],
   "source": [
    "highs = df_high.sort_values('AbsDiff*ScaledDiff', ascending=False)['Pct_Dead']"
   ]
  },
  {
   "cell_type": "code",
   "execution_count": null,
   "id": "20ea5099-8e29-4e7f-9cdf-0705e1e21c76",
   "metadata": {
    "tags": []
   },
   "outputs": [],
   "source": [
    "[print(h) for h in highs]"
   ]
  },
  {
   "cell_type": "markdown",
   "id": "8e288b3b-2c3d-411e-bebd-d0fca91430eb",
   "metadata": {
    "tags": []
   },
   "source": [
    "---"
   ]
  },
  {
   "cell_type": "code",
   "execution_count": null,
   "id": "d75a735b-1738-4d6f-81ac-b7cf0923b4e3",
   "metadata": {
    "tags": []
   },
   "outputs": [],
   "source": [
    "diff_genes = df_mod['Gene'].tolist()"
   ]
  },
  {
   "cell_type": "code",
   "execution_count": null,
   "id": "3b755cc2-3e57-426b-9a2e-f1d08f580100",
   "metadata": {
    "tags": []
   },
   "outputs": [],
   "source": [
    "len(diff_genes)"
   ]
  },
  {
   "cell_type": "code",
   "execution_count": null,
   "id": "5cd3a7a5-ea12-47a4-8e04-c12ca0852392",
   "metadata": {
    "tags": []
   },
   "outputs": [],
   "source": [
    "diff_genes"
   ]
  },
  {
   "cell_type": "markdown",
   "id": "26b22635-19b3-4a2b-b4ef-cdd735aa42a0",
   "metadata": {
    "tags": []
   },
   "source": [
    "---"
   ]
  },
  {
   "cell_type": "code",
   "execution_count": null,
   "id": "ba4c3511-10fb-40af-b1b2-0b1903ac6c5f",
   "metadata": {
    "tags": []
   },
   "outputs": [],
   "source": [
    "cols = ['file_id','vital_status'] + diff_genes"
   ]
  },
  {
   "cell_type": "code",
   "execution_count": null,
   "id": "f9bf3c5a-d4bc-43b5-9553-60cf7491bc9e",
   "metadata": {
    "tags": []
   },
   "outputs": [],
   "source": [
    "path_train = pj(dir_analysis,'1-matrix_trainGeneImpact.pq')"
   ]
  },
  {
   "cell_type": "code",
   "execution_count": null,
   "id": "23f23be1-d34b-4277-9950-bdbead6fc692",
   "metadata": {
    "tags": []
   },
   "outputs": [],
   "source": [
    "df_train = pd.read_parquet(path_train)"
   ]
  },
  {
   "cell_type": "code",
   "execution_count": null,
   "id": "79190be7-486a-46a9-93db-4e434e1f1e70",
   "metadata": {
    "tags": []
   },
   "outputs": [],
   "source": [
    "df_train = df_train.filter(cols)"
   ]
  },
  {
   "cell_type": "code",
   "execution_count": null,
   "id": "308c9853-40c4-4bed-a3bc-f2818d4c8085",
   "metadata": {
    "tags": []
   },
   "outputs": [],
   "source": [
    "path_diffTrain = pj(dir_analysis, f\"2-diffTrain_score{score_str}_combo{combo_str}.pq\")"
   ]
  },
  {
   "cell_type": "code",
   "execution_count": null,
   "id": "77bd64d6-0585-4142-ad70-ca604343fa00",
   "metadata": {
    "tags": []
   },
   "outputs": [],
   "source": [
    "df_train.to_parquet(path_diffTrain)"
   ]
  },
  {
   "cell_type": "code",
   "execution_count": null,
   "id": "4c349768-efd8-4b1e-a8eb-c77a61d9c017",
   "metadata": {
    "tags": []
   },
   "outputs": [],
   "source": [
    "print(path_diffTrain.split('/')[-1])"
   ]
  }
 ],
 "metadata": {
  "kernelspec": {
   "display_name": "Python 3 (ipykernel)",
   "language": "python",
   "name": "python3"
  },
  "language_info": {
   "codemirror_mode": {
    "name": "ipython",
    "version": 3
   },
   "file_extension": ".py",
   "mimetype": "text/x-python",
   "name": "python",
   "nbconvert_exporter": "python",
   "pygments_lexer": "ipython3",
   "version": "3.7.16"
  }
 },
 "nbformat": 4,
 "nbformat_minor": 5
}
