{
 "cells": [
  {
   "cell_type": "code",
   "execution_count": 1,
   "id": "3db87033-eca2-47a1-a9ac-08f2734d9a52",
   "metadata": {
    "tags": []
   },
   "outputs": [],
   "source": [
    "import os\n",
    "from os.path import join as pj\n",
    "import pandas as pd\n",
    "from tqdm import tqdm"
   ]
  },
  {
   "cell_type": "code",
   "execution_count": 2,
   "id": "c3c4d963-af91-4c01-8548-565303f3bb38",
   "metadata": {
    "tags": []
   },
   "outputs": [],
   "source": [
    "%%capture\n",
    "pd.set_option('display.max_colwidth', -1)\n",
    "pd.set_option('display.max_rows', None)"
   ]
  },
  {
   "cell_type": "code",
   "execution_count": 3,
   "id": "613d338f-a6f4-46a5-893c-d0bdc8769e69",
   "metadata": {
    "tags": []
   },
   "outputs": [],
   "source": [
    "dir_home      = os.path.expanduser('~')\n",
    "dir_project   = '/mnt/4TB/TCGA_Lung'\n",
    "path_manifest = pj(dir_project, 'scripts', '3-processing', '1-manifest.csv') \n",
    "dir_vars      = pj(dir_project, 'variants')\n",
    "dir_analysis  = pj(dir_project, 'scripts', '4-analysis')"
   ]
  },
  {
   "cell_type": "code",
   "execution_count": 4,
   "id": "9a7367f0-d6b9-49fd-8705-5fdb01b3a5b0",
   "metadata": {
    "tags": []
   },
   "outputs": [],
   "source": [
    "os.chdir(dir_project)"
   ]
  },
  {
   "cell_type": "code",
   "execution_count": 5,
   "id": "3069f26d-30b6-4713-ba3d-104ce2c8f42f",
   "metadata": {
    "tags": []
   },
   "outputs": [
    {
     "data": {
      "text/plain": [
       "'/mnt/4TB/TCGA_Colorectal'"
      ]
     },
     "execution_count": 5,
     "metadata": {},
     "output_type": "execute_result"
    }
   ],
   "source": [
    "pwd"
   ]
  },
  {
   "cell_type": "markdown",
   "id": "4482d9e3-7f54-47a9-98be-0bf24bb97b60",
   "metadata": {
    "tags": []
   },
   "source": [
    "---"
   ]
  },
  {
   "cell_type": "markdown",
   "id": "0d5a49b0-a982-4973-9d9d-4885e96e7d84",
   "metadata": {
    "tags": []
   },
   "source": [
    "### Manifest"
   ]
  },
  {
   "cell_type": "code",
   "execution_count": 6,
   "id": "7fab9944-d712-4935-a61f-c6c341cbc114",
   "metadata": {
    "tags": []
   },
   "outputs": [],
   "source": [
    "df_manifest = pd.read_csv(path_manifest)"
   ]
  },
  {
   "cell_type": "code",
   "execution_count": 7,
   "id": "05d218ae-a2f1-4c72-92aa-7c0c758b6ae8",
   "metadata": {
    "tags": []
   },
   "outputs": [],
   "source": [
    "if 'vital_status' not in df_manifest.columns.tolist():\n",
    "    raise Exception(\"Error - Prior to running this script, you'll need to add `vital_status` column to your manifest file that denotes the file as either `recurred` or `disease_free`\")"
   ]
  },
  {
   "cell_type": "code",
   "execution_count": null,
   "id": "bcd9b564-abfc-49d2-87d2-da378aa83827",
   "metadata": {
    "tags": []
   },
   "outputs": [],
   "source": [
    "# df_manifest = df_manifest[df_manifest['in_cohort']=='yes']"
   ]
  },
  {
   "cell_type": "code",
   "execution_count": null,
   "id": "99f99fd5-7535-40c4-b117-898777845c6a",
   "metadata": {
    "tags": []
   },
   "outputs": [],
   "source": [
    "# files_dead = df_manifest[df_manifest['vital_status']=='Dead']['file_id'].tolist()"
   ]
  },
  {
   "cell_type": "code",
   "execution_count": null,
   "id": "3aff2b78-b1e1-405c-80df-ba50fd442634",
   "metadata": {
    "tags": []
   },
   "outputs": [],
   "source": [
    "# files_alive = df_manifest[df_manifest['vital_status']=='Alive']['file_id'].tolist()"
   ]
  },
  {
   "cell_type": "code",
   "execution_count": null,
   "id": "bb30e4c9-34b5-431d-baab-0328d1d618ec",
   "metadata": {
    "tags": []
   },
   "outputs": [],
   "source": [
    "# num_dead, num_alive = len(files_dead), len(files_alive)"
   ]
  },
  {
   "cell_type": "code",
   "execution_count": null,
   "id": "ea76dede-5793-4a72-9c5c-063fe424a79f",
   "metadata": {
    "tags": []
   },
   "outputs": [],
   "source": [
    "# if num_dead != num_alive:\n",
    "#     raise Exception (f\"Error - number of recurred ({num_dead}) and disease_free ({num_alive}) patients not balanced\")"
   ]
  },
  {
   "cell_type": "markdown",
   "id": "c31df30b-e50f-4e08-b997-ef389693a6ba",
   "metadata": {
    "tags": []
   },
   "source": [
    "---"
   ]
  },
  {
   "cell_type": "markdown",
   "id": "b2b85901-fdbf-4fab-8f3c-4ff0c9f66afa",
   "metadata": {
    "tags": []
   },
   "source": [
    "# Matrices"
   ]
  },
  {
   "cell_type": "markdown",
   "id": "95b168a4-c199-4e9b-97eb-4450c3e18b50",
   "metadata": {
    "tags": []
   },
   "source": [
    "We'll create a matrix that aggregates high and moderate impact mutations at the gene level for each patient."
   ]
  },
  {
   "cell_type": "markdown",
   "id": "0771de74-4a1d-4875-a42a-872d9a78250b",
   "metadata": {
    "tags": []
   },
   "source": [
    "We do them all (dead/alive) together to ensure that we have the same genes/columns for every file"
   ]
  },
  {
   "cell_type": "code",
   "execution_count": 8,
   "id": "da7c33ad-ae10-46be-8db2-c36a47d0a762",
   "metadata": {
    "tags": []
   },
   "outputs": [],
   "source": [
    "file_ids = df_manifest['file_id'].tolist()"
   ]
  },
  {
   "cell_type": "code",
   "execution_count": 9,
   "id": "edfefcd8-c380-4554-ba58-83dd746f719f",
   "metadata": {
    "tags": []
   },
   "outputs": [],
   "source": [
    "vitals = df_manifest['vital_status'].tolist()"
   ]
  },
  {
   "cell_type": "markdown",
   "id": "93d166a4-2c03-4a42-8b5f-76a7fc3537d2",
   "metadata": {
    "tags": []
   },
   "source": [
    "## Gene Matrix"
   ]
  },
  {
   "cell_type": "code",
   "execution_count": 10,
   "id": "3a9f0914-5cb8-4ed1-a0bc-d09cb7cd474a",
   "metadata": {
    "tags": []
   },
   "outputs": [],
   "source": [
    "dfs = []\n",
    "for i, file_id in enumerate(file_ids):\n",
    "    file_path = f\"{file_id}.qc\"\n",
    "    file_path = pj(dir_vars, file_path)\n",
    "\n",
    "    df = pd.read_parquet(file_path)\n",
    "    df = df.filter(['VEP_IMPACT','VEP_SYMBOL','QC_Weight',])\n",
    "    df['Gene_Impact'] = df['VEP_IMPACT'] + '_' + df['VEP_SYMBOL']\n",
    "\n",
    "    df = df.groupby('Gene_Impact')['QC_Weight'].sum()\n",
    "    df = pd.DataFrame(df).reset_index()\n",
    "\n",
    "    cols = df['Gene_Impact'].tolist()\n",
    "    df = df.T\n",
    "    df.columns = cols\n",
    "    df = df.reset_index(drop=True)#necessary for `loc`\n",
    "    df = df.loc[1:1] #[1] results in series\n",
    "    \n",
    "    vital_status = vitals[i]\n",
    "    df.insert(0, 'vital_status', [vital_status])\n",
    "    df.insert(0, 'file_id', [file_id])\n",
    "    \n",
    "    dfs.append(df)"
   ]
  },
  {
   "cell_type": "code",
   "execution_count": 11,
   "id": "97e5afa1-59a9-4387-aa31-d2c5a2053628",
   "metadata": {
    "tags": []
   },
   "outputs": [],
   "source": [
    "df_genes = pd.concat(dfs)\n",
    "df_genes = df_genes.fillna(0)\n",
    "df_genes.reset_index(drop=True,inplace=True)"
   ]
  },
  {
   "cell_type": "code",
   "execution_count": 12,
   "id": "1472940d-0bd9-4761-8c39-ced3416bb38b",
   "metadata": {
    "tags": []
   },
   "outputs": [
    {
     "data": {
      "text/html": [
       "<div>\n",
       "<style scoped>\n",
       "    .dataframe tbody tr th:only-of-type {\n",
       "        vertical-align: middle;\n",
       "    }\n",
       "\n",
       "    .dataframe tbody tr th {\n",
       "        vertical-align: top;\n",
       "    }\n",
       "\n",
       "    .dataframe thead th {\n",
       "        text-align: right;\n",
       "    }\n",
       "</style>\n",
       "<table border=\"1\" class=\"dataframe\">\n",
       "  <thead>\n",
       "    <tr style=\"text-align: right;\">\n",
       "      <th></th>\n",
       "      <th>file_id</th>\n",
       "      <th>vital_status</th>\n",
       "      <th>HIGH_A2M</th>\n",
       "      <th>HIGH_AASDH</th>\n",
       "      <th>HIGH_ABCA5</th>\n",
       "      <th>HIGH_ABCF1</th>\n",
       "      <th>HIGH_ABO</th>\n",
       "      <th>HIGH_ACTN3</th>\n",
       "      <th>HIGH_ADGRD2</th>\n",
       "      <th>HIGH_AGAP6</th>\n",
       "      <th>...</th>\n",
       "      <th>MODERATE_CDCA8</th>\n",
       "      <th>MODERATE_CELF2</th>\n",
       "      <th>MODERATE_GPX2</th>\n",
       "      <th>MODERATE_PDE6H</th>\n",
       "      <th>MODERATE_PHKG2</th>\n",
       "      <th>MODERATE_RAB8A</th>\n",
       "      <th>MODERATE_RASGRP2</th>\n",
       "      <th>MODERATE_SLC25A1</th>\n",
       "      <th>MODERATE_STYX</th>\n",
       "      <th>MODERATE_VWC2L</th>\n",
       "    </tr>\n",
       "  </thead>\n",
       "  <tbody>\n",
       "    <tr>\n",
       "      <th>0</th>\n",
       "      <td>43cbb4c9-4dc8-4e7a-ac69-779f5a76dced</td>\n",
       "      <td>Alive</td>\n",
       "      <td>0.0009</td>\n",
       "      <td>0.99812</td>\n",
       "      <td>0.99815</td>\n",
       "      <td>0.99553</td>\n",
       "      <td>0.0</td>\n",
       "      <td>0.0</td>\n",
       "      <td>0.98304</td>\n",
       "      <td>0.00023</td>\n",
       "      <td>...</td>\n",
       "      <td>0.0</td>\n",
       "      <td>0.0</td>\n",
       "      <td>0.0</td>\n",
       "      <td>0.0</td>\n",
       "      <td>0.0</td>\n",
       "      <td>0.0</td>\n",
       "      <td>0.0</td>\n",
       "      <td>0.0</td>\n",
       "      <td>0.0</td>\n",
       "      <td>0.0</td>\n",
       "    </tr>\n",
       "    <tr>\n",
       "      <th>1</th>\n",
       "      <td>89b770d2-f4ac-4a53-b1aa-4bbefccc6dff</td>\n",
       "      <td>Alive</td>\n",
       "      <td>0.0000</td>\n",
       "      <td>0.99812</td>\n",
       "      <td>0.00000</td>\n",
       "      <td>0.99553</td>\n",
       "      <td>0.0</td>\n",
       "      <td>0.0</td>\n",
       "      <td>0.00000</td>\n",
       "      <td>0.00000</td>\n",
       "      <td>...</td>\n",
       "      <td>0.0</td>\n",
       "      <td>0.0</td>\n",
       "      <td>0.0</td>\n",
       "      <td>0.0</td>\n",
       "      <td>0.0</td>\n",
       "      <td>0.0</td>\n",
       "      <td>0.0</td>\n",
       "      <td>0.0</td>\n",
       "      <td>0.0</td>\n",
       "      <td>0.0</td>\n",
       "    </tr>\n",
       "    <tr>\n",
       "      <th>2</th>\n",
       "      <td>7f9e0853-64b8-4ab9-b5d0-ae2afeaacffd</td>\n",
       "      <td>Alive</td>\n",
       "      <td>0.0009</td>\n",
       "      <td>0.99812</td>\n",
       "      <td>0.00000</td>\n",
       "      <td>0.99553</td>\n",
       "      <td>0.0</td>\n",
       "      <td>0.0</td>\n",
       "      <td>0.00000</td>\n",
       "      <td>0.00000</td>\n",
       "      <td>...</td>\n",
       "      <td>0.0</td>\n",
       "      <td>0.0</td>\n",
       "      <td>0.0</td>\n",
       "      <td>0.0</td>\n",
       "      <td>0.0</td>\n",
       "      <td>0.0</td>\n",
       "      <td>0.0</td>\n",
       "      <td>0.0</td>\n",
       "      <td>0.0</td>\n",
       "      <td>0.0</td>\n",
       "    </tr>\n",
       "  </tbody>\n",
       "</table>\n",
       "<p>3 rows × 21143 columns</p>\n",
       "</div>"
      ],
      "text/plain": [
       "                                file_id vital_status  HIGH_A2M  HIGH_AASDH  \\\n",
       "0  43cbb4c9-4dc8-4e7a-ac69-779f5a76dced  Alive        0.0009    0.99812      \n",
       "1  89b770d2-f4ac-4a53-b1aa-4bbefccc6dff  Alive        0.0000    0.99812      \n",
       "2  7f9e0853-64b8-4ab9-b5d0-ae2afeaacffd  Alive        0.0009    0.99812      \n",
       "\n",
       "   HIGH_ABCA5  HIGH_ABCF1  HIGH_ABO  HIGH_ACTN3  HIGH_ADGRD2  HIGH_AGAP6  ...  \\\n",
       "0  0.99815     0.99553     0.0       0.0         0.98304      0.00023     ...   \n",
       "1  0.00000     0.99553     0.0       0.0         0.00000      0.00000     ...   \n",
       "2  0.00000     0.99553     0.0       0.0         0.00000      0.00000     ...   \n",
       "\n",
       "   MODERATE_CDCA8  MODERATE_CELF2  MODERATE_GPX2  MODERATE_PDE6H  \\\n",
       "0  0.0             0.0             0.0            0.0              \n",
       "1  0.0             0.0             0.0            0.0              \n",
       "2  0.0             0.0             0.0            0.0              \n",
       "\n",
       "   MODERATE_PHKG2  MODERATE_RAB8A  MODERATE_RASGRP2  MODERATE_SLC25A1  \\\n",
       "0  0.0             0.0             0.0               0.0                \n",
       "1  0.0             0.0             0.0               0.0                \n",
       "2  0.0             0.0             0.0               0.0                \n",
       "\n",
       "   MODERATE_STYX  MODERATE_VWC2L  \n",
       "0  0.0            0.0             \n",
       "1  0.0            0.0             \n",
       "2  0.0            0.0             \n",
       "\n",
       "[3 rows x 21143 columns]"
      ]
     },
     "execution_count": 12,
     "metadata": {},
     "output_type": "execute_result"
    }
   ],
   "source": [
    "df_genes.head(3)"
   ]
  },
  {
   "cell_type": "code",
   "execution_count": 13,
   "id": "aac280c6-5ea2-431a-851b-ef007c20d614",
   "metadata": {
    "tags": []
   },
   "outputs": [
    {
     "data": {
      "text/plain": [
       "(119, 21143)"
      ]
     },
     "execution_count": 13,
     "metadata": {},
     "output_type": "execute_result"
    }
   ],
   "source": [
    "df_genes.shape"
   ]
  },
  {
   "cell_type": "code",
   "execution_count": 14,
   "id": "6e20d135-d807-40b9-88e7-bac384ea53e5",
   "metadata": {
    "tags": []
   },
   "outputs": [],
   "source": [
    "path_matrixGene = pj(dir_analysis,'1-matrix_trainGeneImpact.pq')"
   ]
  },
  {
   "cell_type": "code",
   "execution_count": 15,
   "id": "c85f6d01-2ee5-400c-8298-244a5b39c67e",
   "metadata": {
    "tags": []
   },
   "outputs": [],
   "source": [
    "df_genes.to_parquet(path_matrixGene)"
   ]
  }
 ],
 "metadata": {
  "kernelspec": {
   "display_name": "Python 3 (ipykernel)",
   "language": "python",
   "name": "python3"
  },
  "language_info": {
   "codemirror_mode": {
    "name": "ipython",
    "version": 3
   },
   "file_extension": ".py",
   "mimetype": "text/x-python",
   "name": "python",
   "nbconvert_exporter": "python",
   "pygments_lexer": "ipython3",
   "version": "3.7.16"
  }
 },
 "nbformat": 4,
 "nbformat_minor": 5
}
