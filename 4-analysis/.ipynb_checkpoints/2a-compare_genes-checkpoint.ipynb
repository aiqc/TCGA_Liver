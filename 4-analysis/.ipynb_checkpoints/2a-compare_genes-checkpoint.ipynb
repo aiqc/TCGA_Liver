{
 "cells": [
  {
   "cell_type": "code",
   "execution_count": null,
   "id": "3d1d155e-ba42-4769-8e94-4da751ecf227",
   "metadata": {},
   "outputs": [],
   "source": [
    "genes_bladder = [\n",
    "    'MODERATE_IGHV3-48',\n",
    "    'MODERATE_SORL1',\n",
    "    'MODERATE_CA4',\n",
    "    'MODERATE_KIF27',\n",
    "    'MODERATE_A2M',\n",
    "    'MODERATE_NKPD1',\n",
    "    'MODERATE_MELTF',\n",
    "    'MODERATE_CNDP1',\n",
    "    'MODERATE_ADNP2',\n",
    "    'MODERATE_RAB3GAP1',\n",
    "    'MODERATE_JAKMIP3',\n",
    "    'MODERATE_EPB41L5',\n",
    "    'MODERATE_BCLAF1',\n",
    "    'MODERATE_CUL7',\n",
    "    'HIGH_FCGR2A',\n",
    "    'MODERATE_APMAP',\n",
    "    'MODERATE_RNF25',\n",
    "    'MODERATE_TMEM181',\n",
    "    'MODERATE_IL23R',\n",
    "    'MODERATE_LTBP1',\n",
    "    'MODERATE_MAU2',\n",
    "    'MODERATE_HECTD1',\n",
    "    'MODERATE_CST9',\n",
    "    'MODERATE_ABCA4',\n",
    "    'MODERATE_ROBO4',\n",
    "    'MODERATE_SENP5',\n",
    "]"
   ]
  },
  {
   "cell_type": "markdown",
   "id": "80b0b298-fb86-441b-9d9a-d9183da11677",
   "metadata": {},
   "source": [
    "Grab this from `diff_genes` in combo script"
   ]
  },
  {
   "cell_type": "code",
   "execution_count": null,
   "id": "f63c1af9-50b9-417c-8664-7a12eed045db",
   "metadata": {},
   "outputs": [],
   "source": [
    "genes_colorectal = [\n",
    "\n",
    "]"
   ]
  },
  {
   "cell_type": "code",
   "execution_count": null,
   "id": "548b673e-0a30-4a8f-88ed-0997ad661c45",
   "metadata": {},
   "outputs": [],
   "source": [
    "for g in genes_bladder:\n",
    "    if g in genes_colorectal:\n",
    "        print(g)"
   ]
  }
 ],
 "metadata": {
  "kernelspec": {
   "display_name": "Python 3 (ipykernel)",
   "language": "python",
   "name": "python3"
  },
  "language_info": {
   "codemirror_mode": {
    "name": "ipython",
    "version": 3
   },
   "file_extension": ".py",
   "mimetype": "text/x-python",
   "name": "python",
   "nbconvert_exporter": "python",
   "pygments_lexer": "ipython3",
   "version": "3.7.16"
  }
 },
 "nbformat": 4,
 "nbformat_minor": 5
}
