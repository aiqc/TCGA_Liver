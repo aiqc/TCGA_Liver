{
 "cells": [
  {
   "cell_type": "code",
   "execution_count": 1,
   "id": "bb5adddf-3e9b-46cb-8fee-84cb758499bd",
   "metadata": {
    "tags": []
   },
   "outputs": [],
   "source": [
    "import pandas as pd"
   ]
  },
  {
   "cell_type": "code",
   "execution_count": 5,
   "id": "2020861c-b386-40b8-a98b-109ecafaaa3d",
   "metadata": {
    "tags": []
   },
   "outputs": [],
   "source": [
    "pd.set_option('display.max_columns', None)\n",
    "pd.set_option('display.max_rows', 500)"
   ]
  },
  {
   "cell_type": "code",
   "execution_count": 2,
   "id": "a42dbcd4-6d3b-4f59-946f-9d2951cf08ae",
   "metadata": {
    "tags": []
   },
   "outputs": [],
   "source": [
    "df = pd.read_csv('1-dedup.csv')"
   ]
  },
  {
   "cell_type": "code",
   "execution_count": 3,
   "id": "b3b881e0-a1d7-4b1f-bd08-cdbe712c2c05",
   "metadata": {
    "tags": []
   },
   "outputs": [
    {
     "data": {
      "text/html": [
       "<div>\n",
       "<style scoped>\n",
       "    .dataframe tbody tr th:only-of-type {\n",
       "        vertical-align: middle;\n",
       "    }\n",
       "\n",
       "    .dataframe tbody tr th {\n",
       "        vertical-align: top;\n",
       "    }\n",
       "\n",
       "    .dataframe thead th {\n",
       "        text-align: right;\n",
       "    }\n",
       "</style>\n",
       "<table border=\"1\" class=\"dataframe\">\n",
       "  <thead>\n",
       "    <tr style=\"text-align: right;\">\n",
       "      <th></th>\n",
       "      <th>case_id</th>\n",
       "      <th>case_submitter_id</th>\n",
       "      <th>project_id</th>\n",
       "      <th>age_at_index</th>\n",
       "      <th>age_is_obfuscated</th>\n",
       "      <th>cause_of_death</th>\n",
       "      <th>cause_of_death_source</th>\n",
       "      <th>country_of_residence_at_enrollment</th>\n",
       "      <th>days_to_birth</th>\n",
       "      <th>days_to_death</th>\n",
       "      <th>...</th>\n",
       "      <th>treatment_arm</th>\n",
       "      <th>treatment_dose</th>\n",
       "      <th>treatment_dose_units</th>\n",
       "      <th>treatment_effect</th>\n",
       "      <th>treatment_effect_indicator</th>\n",
       "      <th>treatment_frequency</th>\n",
       "      <th>treatment_intent_type</th>\n",
       "      <th>treatment_or_therapy</th>\n",
       "      <th>treatment_outcome</th>\n",
       "      <th>treatment_type</th>\n",
       "    </tr>\n",
       "  </thead>\n",
       "  <tbody>\n",
       "    <tr>\n",
       "      <th>0</th>\n",
       "      <td>0004d251-3f70-4395-b175-c94c2f5b1b81</td>\n",
       "      <td>TCGA-DD-AAVP</td>\n",
       "      <td>TCGA-LIHC</td>\n",
       "      <td>48</td>\n",
       "      <td>'--</td>\n",
       "      <td>'--</td>\n",
       "      <td>'--</td>\n",
       "      <td>'--</td>\n",
       "      <td>-17833</td>\n",
       "      <td>'--</td>\n",
       "      <td>...</td>\n",
       "      <td>'--</td>\n",
       "      <td>'--</td>\n",
       "      <td>'--</td>\n",
       "      <td>'--</td>\n",
       "      <td>'--</td>\n",
       "      <td>'--</td>\n",
       "      <td>'--</td>\n",
       "      <td>no</td>\n",
       "      <td>'--</td>\n",
       "      <td>Pharmaceutical Therapy, NOS</td>\n",
       "    </tr>\n",
       "    <tr>\n",
       "      <th>1</th>\n",
       "      <td>001887aa-36d0-463f-8bca-dec7043b4f2e</td>\n",
       "      <td>TCGA-DD-A4NP</td>\n",
       "      <td>TCGA-LIHC</td>\n",
       "      <td>32</td>\n",
       "      <td>'--</td>\n",
       "      <td>'--</td>\n",
       "      <td>'--</td>\n",
       "      <td>'--</td>\n",
       "      <td>-11838</td>\n",
       "      <td>'--</td>\n",
       "      <td>...</td>\n",
       "      <td>'--</td>\n",
       "      <td>'--</td>\n",
       "      <td>'--</td>\n",
       "      <td>'--</td>\n",
       "      <td>'--</td>\n",
       "      <td>'--</td>\n",
       "      <td>'--</td>\n",
       "      <td>no</td>\n",
       "      <td>'--</td>\n",
       "      <td>Pharmaceutical Therapy, NOS</td>\n",
       "    </tr>\n",
       "    <tr>\n",
       "      <th>2</th>\n",
       "      <td>00f209c3-041a-4c6e-8b0f-6383eb3c85fc</td>\n",
       "      <td>TCGA-BC-4073</td>\n",
       "      <td>TCGA-LIHC</td>\n",
       "      <td>73</td>\n",
       "      <td>'--</td>\n",
       "      <td>'--</td>\n",
       "      <td>'--</td>\n",
       "      <td>'--</td>\n",
       "      <td>-26795</td>\n",
       "      <td>'--</td>\n",
       "      <td>...</td>\n",
       "      <td>'--</td>\n",
       "      <td>'--</td>\n",
       "      <td>'--</td>\n",
       "      <td>'--</td>\n",
       "      <td>'--</td>\n",
       "      <td>'--</td>\n",
       "      <td>'--</td>\n",
       "      <td>no</td>\n",
       "      <td>'--</td>\n",
       "      <td>Pharmaceutical Therapy, NOS</td>\n",
       "    </tr>\n",
       "    <tr>\n",
       "      <th>3</th>\n",
       "      <td>010d5817-9a3f-4a06-8643-653116c044ff</td>\n",
       "      <td>TCGA-MI-A75E</td>\n",
       "      <td>TCGA-LIHC</td>\n",
       "      <td>61</td>\n",
       "      <td>'--</td>\n",
       "      <td>'--</td>\n",
       "      <td>'--</td>\n",
       "      <td>'--</td>\n",
       "      <td>-22457</td>\n",
       "      <td>'--</td>\n",
       "      <td>...</td>\n",
       "      <td>'--</td>\n",
       "      <td>'--</td>\n",
       "      <td>'--</td>\n",
       "      <td>'--</td>\n",
       "      <td>'--</td>\n",
       "      <td>'--</td>\n",
       "      <td>'--</td>\n",
       "      <td>no</td>\n",
       "      <td>'--</td>\n",
       "      <td>Pharmaceutical Therapy, NOS</td>\n",
       "    </tr>\n",
       "    <tr>\n",
       "      <th>4</th>\n",
       "      <td>01cc571c-a47c-4548-9c14-5e51c79b095b</td>\n",
       "      <td>TCGA-G3-A7M8</td>\n",
       "      <td>TCGA-LIHC</td>\n",
       "      <td>31</td>\n",
       "      <td>'--</td>\n",
       "      <td>'--</td>\n",
       "      <td>'--</td>\n",
       "      <td>'--</td>\n",
       "      <td>-11527</td>\n",
       "      <td>'--</td>\n",
       "      <td>...</td>\n",
       "      <td>'--</td>\n",
       "      <td>'--</td>\n",
       "      <td>'--</td>\n",
       "      <td>'--</td>\n",
       "      <td>'--</td>\n",
       "      <td>'--</td>\n",
       "      <td>'--</td>\n",
       "      <td>no</td>\n",
       "      <td>'--</td>\n",
       "      <td>Pharmaceutical Therapy, NOS</td>\n",
       "    </tr>\n",
       "  </tbody>\n",
       "</table>\n",
       "<p>5 rows × 158 columns</p>\n",
       "</div>"
      ],
      "text/plain": [
       "                                case_id case_submitter_id project_id  \\\n",
       "0  0004d251-3f70-4395-b175-c94c2f5b1b81      TCGA-DD-AAVP  TCGA-LIHC   \n",
       "1  001887aa-36d0-463f-8bca-dec7043b4f2e      TCGA-DD-A4NP  TCGA-LIHC   \n",
       "2  00f209c3-041a-4c6e-8b0f-6383eb3c85fc      TCGA-BC-4073  TCGA-LIHC   \n",
       "3  010d5817-9a3f-4a06-8643-653116c044ff      TCGA-MI-A75E  TCGA-LIHC   \n",
       "4  01cc571c-a47c-4548-9c14-5e51c79b095b      TCGA-G3-A7M8  TCGA-LIHC   \n",
       "\n",
       "  age_at_index age_is_obfuscated cause_of_death cause_of_death_source  \\\n",
       "0           48               '--            '--                   '--   \n",
       "1           32               '--            '--                   '--   \n",
       "2           73               '--            '--                   '--   \n",
       "3           61               '--            '--                   '--   \n",
       "4           31               '--            '--                   '--   \n",
       "\n",
       "  country_of_residence_at_enrollment days_to_birth days_to_death  ...  \\\n",
       "0                                '--        -17833           '--  ...   \n",
       "1                                '--        -11838           '--  ...   \n",
       "2                                '--        -26795           '--  ...   \n",
       "3                                '--        -22457           '--  ...   \n",
       "4                                '--        -11527           '--  ...   \n",
       "\n",
       "  treatment_arm treatment_dose treatment_dose_units treatment_effect  \\\n",
       "0           '--            '--                  '--              '--   \n",
       "1           '--            '--                  '--              '--   \n",
       "2           '--            '--                  '--              '--   \n",
       "3           '--            '--                  '--              '--   \n",
       "4           '--            '--                  '--              '--   \n",
       "\n",
       "  treatment_effect_indicator treatment_frequency treatment_intent_type  \\\n",
       "0                        '--                 '--                   '--   \n",
       "1                        '--                 '--                   '--   \n",
       "2                        '--                 '--                   '--   \n",
       "3                        '--                 '--                   '--   \n",
       "4                        '--                 '--                   '--   \n",
       "\n",
       "  treatment_or_therapy treatment_outcome               treatment_type  \n",
       "0                   no               '--  Pharmaceutical Therapy, NOS  \n",
       "1                   no               '--  Pharmaceutical Therapy, NOS  \n",
       "2                   no               '--  Pharmaceutical Therapy, NOS  \n",
       "3                   no               '--  Pharmaceutical Therapy, NOS  \n",
       "4                   no               '--  Pharmaceutical Therapy, NOS  \n",
       "\n",
       "[5 rows x 158 columns]"
      ]
     },
     "execution_count": 3,
     "metadata": {},
     "output_type": "execute_result"
    }
   ],
   "source": [
    "df.head()"
   ]
  },
  {
   "cell_type": "code",
   "execution_count": 4,
   "id": "6767400c-2498-4626-bc87-604b23c6a9d1",
   "metadata": {
    "tags": []
   },
   "outputs": [
    {
     "data": {
      "text/plain": [
       "['case_id',\n",
       " 'case_submitter_id',\n",
       " 'project_id',\n",
       " 'age_at_index',\n",
       " 'age_is_obfuscated',\n",
       " 'cause_of_death',\n",
       " 'cause_of_death_source',\n",
       " 'country_of_residence_at_enrollment',\n",
       " 'days_to_birth',\n",
       " 'days_to_death',\n",
       " 'ethnicity',\n",
       " 'gender',\n",
       " 'occupation_duration_years',\n",
       " 'premature_at_birth',\n",
       " 'race',\n",
       " 'vital_status',\n",
       " 'weeks_gestation_at_birth',\n",
       " 'year_of_birth',\n",
       " 'year_of_death',\n",
       " 'adrenal_hormone',\n",
       " 'age_at_diagnosis',\n",
       " 'ajcc_clinical_m',\n",
       " 'ajcc_clinical_n',\n",
       " 'ajcc_clinical_stage',\n",
       " 'ajcc_clinical_t',\n",
       " 'ajcc_pathologic_m',\n",
       " 'ajcc_pathologic_n',\n",
       " 'ajcc_pathologic_stage',\n",
       " 'ajcc_pathologic_t',\n",
       " 'ajcc_staging_system_edition',\n",
       " 'anaplasia_present',\n",
       " 'anaplasia_present_type',\n",
       " 'ann_arbor_b_symptoms',\n",
       " 'ann_arbor_b_symptoms_described',\n",
       " 'ann_arbor_clinical_stage',\n",
       " 'ann_arbor_extranodal_involvement',\n",
       " 'ann_arbor_pathologic_stage',\n",
       " 'best_overall_response',\n",
       " 'breslow_thickness',\n",
       " 'burkitt_lymphoma_clinical_variant',\n",
       " 'child_pugh_classification',\n",
       " 'circumferential_resection_margin',\n",
       " 'classification_of_tumor',\n",
       " 'cog_liver_stage',\n",
       " 'cog_neuroblastoma_risk_group',\n",
       " 'cog_renal_stage',\n",
       " 'cog_rhabdomyosarcoma_risk_group',\n",
       " 'days_to_best_overall_response',\n",
       " 'days_to_diagnosis',\n",
       " 'days_to_last_follow_up',\n",
       " 'days_to_last_known_disease_status',\n",
       " 'days_to_recurrence',\n",
       " 'eln_risk_classification',\n",
       " 'enneking_msts_grade',\n",
       " 'enneking_msts_metastasis',\n",
       " 'enneking_msts_stage',\n",
       " 'enneking_msts_tumor_site',\n",
       " 'esophageal_columnar_dysplasia_degree',\n",
       " 'esophageal_columnar_metaplasia_present',\n",
       " 'figo_stage',\n",
       " 'figo_staging_edition_year',\n",
       " 'first_symptom_prior_to_diagnosis',\n",
       " 'gastric_esophageal_junction_involvement',\n",
       " 'gleason_grade_group',\n",
       " 'gleason_grade_tertiary',\n",
       " 'gleason_patterns_percent',\n",
       " 'goblet_cells_columnar_mucosa_present',\n",
       " 'greatest_tumor_dimension',\n",
       " 'gross_tumor_weight',\n",
       " 'icd_10_code',\n",
       " 'igcccg_stage',\n",
       " 'inpc_grade',\n",
       " 'inpc_histologic_group',\n",
       " 'inrg_stage',\n",
       " 'inss_stage',\n",
       " 'international_prognostic_index',\n",
       " 'irs_group',\n",
       " 'irs_stage',\n",
       " 'ishak_fibrosis_score',\n",
       " 'iss_stage',\n",
       " 'largest_extrapelvic_peritoneal_focus',\n",
       " 'last_known_disease_status',\n",
       " 'laterality',\n",
       " 'lymph_node_involved_site',\n",
       " 'lymph_nodes_positive',\n",
       " 'lymph_nodes_tested',\n",
       " 'lymphatic_invasion_present',\n",
       " 'margin_distance',\n",
       " 'margins_involved_site',\n",
       " 'masaoka_stage',\n",
       " 'medulloblastoma_molecular_classification',\n",
       " 'metastasis_at_diagnosis',\n",
       " 'metastasis_at_diagnosis_site',\n",
       " 'method_of_diagnosis',\n",
       " 'micropapillary_features',\n",
       " 'mitosis_karyorrhexis_index',\n",
       " 'mitotic_count',\n",
       " 'morphology',\n",
       " 'non_nodal_regional_disease',\n",
       " 'non_nodal_tumor_deposits',\n",
       " 'ovarian_specimen_status',\n",
       " 'ovarian_surface_involvement',\n",
       " 'papillary_renal_cell_type',\n",
       " 'percent_tumor_invasion',\n",
       " 'perineural_invasion_present',\n",
       " 'peripancreatic_lymph_nodes_positive',\n",
       " 'peripancreatic_lymph_nodes_tested',\n",
       " 'peritoneal_fluid_cytological_status',\n",
       " 'pregnant_at_diagnosis',\n",
       " 'primary_diagnosis',\n",
       " 'primary_disease',\n",
       " 'primary_gleason_grade',\n",
       " 'prior_malignancy',\n",
       " 'prior_treatment',\n",
       " 'progression_or_recurrence',\n",
       " 'residual_disease',\n",
       " 'satellite_nodule_present',\n",
       " 'secondary_gleason_grade',\n",
       " 'site_of_resection_or_biopsy',\n",
       " 'sites_of_involvement',\n",
       " 'supratentorial_localization',\n",
       " 'synchronous_malignancy',\n",
       " 'tissue_or_organ_of_origin',\n",
       " 'transglottic_extension',\n",
       " 'tumor_confined_to_organ_of_origin',\n",
       " 'tumor_depth',\n",
       " 'tumor_focality',\n",
       " 'tumor_grade',\n",
       " 'tumor_largest_dimension_diameter',\n",
       " 'tumor_regression_grade',\n",
       " 'tumor_stage',\n",
       " 'vascular_invasion_present',\n",
       " 'vascular_invasion_type',\n",
       " 'weiss_assessment_score',\n",
       " 'who_cns_grade',\n",
       " 'who_nte_grade',\n",
       " 'wilms_tumor_histologic_subtype',\n",
       " 'year_of_diagnosis',\n",
       " 'chemo_concurrent_to_radiation',\n",
       " 'days_to_treatment_end',\n",
       " 'days_to_treatment_start',\n",
       " 'initial_disease_status',\n",
       " 'number_of_cycles',\n",
       " 'reason_treatment_ended',\n",
       " 'regimen_or_line_of_therapy',\n",
       " 'route_of_administration',\n",
       " 'therapeutic_agents',\n",
       " 'treatment_anatomic_site',\n",
       " 'treatment_arm',\n",
       " 'treatment_dose',\n",
       " 'treatment_dose_units',\n",
       " 'treatment_effect',\n",
       " 'treatment_effect_indicator',\n",
       " 'treatment_frequency',\n",
       " 'treatment_intent_type',\n",
       " 'treatment_or_therapy',\n",
       " 'treatment_outcome',\n",
       " 'treatment_type']"
      ]
     },
     "execution_count": 4,
     "metadata": {},
     "output_type": "execute_result"
    }
   ],
   "source": [
    "df.columns.tolist()"
   ]
  },
  {
   "cell_type": "code",
   "execution_count": 6,
   "id": "1e29037d-08be-469e-8b61-ddeded88b1ea",
   "metadata": {
    "tags": []
   },
   "outputs": [
    {
     "data": {
      "text/plain": [
       "T1     165\n",
       "T2      80\n",
       "T3      36\n",
       "T3a     26\n",
       "T4       9\n",
       "T3b      4\n",
       "T2b      1\n",
       "T2a      1\n",
       "Name: ajcc_pathologic_t, dtype: int64"
      ]
     },
     "execution_count": 6,
     "metadata": {},
     "output_type": "execute_result"
    }
   ],
   "source": [
    "df['ajcc_pathologic_t'].value_counts()"
   ]
  },
  {
   "cell_type": "code",
   "execution_count": 7,
   "id": "7fdfca8e-af19-41d6-9845-ea09321ede56",
   "metadata": {
    "tags": []
   },
   "outputs": [
    {
     "data": {
      "text/plain": [
       "N0     228\n",
       "NX      90\n",
       "N1       3\n",
       "'--      1\n",
       "Name: ajcc_pathologic_n, dtype: int64"
      ]
     },
     "execution_count": 7,
     "metadata": {},
     "output_type": "execute_result"
    }
   ],
   "source": [
    "df['ajcc_pathologic_n'].value_counts()"
   ]
  },
  {
   "cell_type": "code",
   "execution_count": 8,
   "id": "048cc5de-39f0-4aa1-8dad-ce09358f98e8",
   "metadata": {
    "tags": []
   },
   "outputs": [
    {
     "data": {
      "text/plain": [
       "M0    236\n",
       "MX     83\n",
       "M1      3\n",
       "Name: ajcc_pathologic_m, dtype: int64"
      ]
     },
     "execution_count": 8,
     "metadata": {},
     "output_type": "execute_result"
    }
   ],
   "source": [
    "df['ajcc_pathologic_m'].value_counts()"
   ]
  },
  {
   "cell_type": "code",
   "execution_count": 11,
   "id": "95b90417-912f-4dbf-b7c0-78b62b0c2023",
   "metadata": {
    "tags": []
   },
   "outputs": [
    {
     "data": {
      "text/plain": [
       "132    N0\n",
       "152    N0\n",
       "228    N0\n",
       "Name: ajcc_pathologic_n, dtype: object"
      ]
     },
     "execution_count": 11,
     "metadata": {},
     "output_type": "execute_result"
    }
   ],
   "source": [
    "df[\n",
    "    df['ajcc_pathologic_m']=='M1'\n",
    "]['ajcc_pathologic_n']"
   ]
  }
 ],
 "metadata": {
  "kernelspec": {
   "display_name": "Python 3",
   "language": "python",
   "name": "python3"
  },
  "language_info": {
   "codemirror_mode": {
    "name": "ipython",
    "version": 3
   },
   "file_extension": ".py",
   "mimetype": "text/x-python",
   "name": "python",
   "nbconvert_exporter": "python",
   "pygments_lexer": "ipython3",
   "version": "3.7.16"
  }
 },
 "nbformat": 4,
 "nbformat_minor": 5
}
