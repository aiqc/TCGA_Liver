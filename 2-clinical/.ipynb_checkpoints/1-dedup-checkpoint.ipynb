{
 "cells": [
  {
   "cell_type": "markdown",
   "id": "38169084-5fd3-4643-b517-d90d2001d916",
   "metadata": {
    "tags": []
   },
   "source": [
    "# Dedupe"
   ]
  },
  {
   "cell_type": "code",
   "execution_count": 13,
   "id": "76b747bb-515c-4205-a292-516f8b6453d3",
   "metadata": {
    "tags": []
   },
   "outputs": [],
   "source": [
    "import pandas as pd"
   ]
  },
  {
   "cell_type": "code",
   "execution_count": 14,
   "id": "7c44bda5-b58c-467f-bd09-ede90284a303",
   "metadata": {
    "tags": []
   },
   "outputs": [],
   "source": [
    "df = pd.read_csv('clinical.tsv', sep='\\t')"
   ]
  },
  {
   "cell_type": "markdown",
   "id": "a87133e0-0cf3-4605-ac52-da42462607b7",
   "metadata": {
    "tags": []
   },
   "source": [
    "---"
   ]
  },
  {
   "cell_type": "code",
   "execution_count": 15,
   "id": "0bf03ff1-602f-4206-ac75-60800326ef33",
   "metadata": {
    "tags": []
   },
   "outputs": [],
   "source": [
    "cases = df['case_id'].tolist()"
   ]
  },
  {
   "cell_type": "code",
   "execution_count": 16,
   "id": "50dac099-cb76-4f85-a167-8a9deae69820",
   "metadata": {
    "tags": []
   },
   "outputs": [
    {
     "data": {
      "text/plain": [
       "646"
      ]
     },
     "execution_count": 16,
     "metadata": {},
     "output_type": "execute_result"
    }
   ],
   "source": [
    "len(cases)"
   ]
  },
  {
   "cell_type": "code",
   "execution_count": 17,
   "id": "d4a1e31d-ab2c-472e-be41-999e93247047",
   "metadata": {
    "tags": []
   },
   "outputs": [
    {
     "data": {
      "text/plain": [
       "323"
      ]
     },
     "execution_count": 17,
     "metadata": {},
     "output_type": "execute_result"
    }
   ],
   "source": [
    "len(set(cases))"
   ]
  },
  {
   "cell_type": "markdown",
   "id": "1476fe01-6476-4b05-9060-e5b10bae24d7",
   "metadata": {
    "tags": []
   },
   "source": [
    "---"
   ]
  },
  {
   "cell_type": "code",
   "execution_count": 18,
   "id": "db39de66-ec46-4224-a3e2-5ce86931e8b7",
   "metadata": {
    "tags": []
   },
   "outputs": [],
   "source": [
    "case_col  = 'case_id'\n",
    "treat_col = 'treatment_or_therapy'\n",
    "type_col  = 'treatment_type'"
   ]
  },
  {
   "cell_type": "code",
   "execution_count": 19,
   "id": "01090092-21e1-44d3-b7cb-e9083b7fbb08",
   "metadata": {
    "tags": []
   },
   "outputs": [
    {
     "data": {
      "text/plain": [
       "Pharmaceutical Therapy, NOS    323\n",
       "Radiation Therapy, NOS         323\n",
       "Name: treatment_type, dtype: int64"
      ]
     },
     "execution_count": 19,
     "metadata": {},
     "output_type": "execute_result"
    }
   ],
   "source": [
    "df[type_col].value_counts()"
   ]
  },
  {
   "cell_type": "markdown",
   "id": "03e84e61-75c2-4443-8b3d-e31d739437b3",
   "metadata": {
    "tags": []
   },
   "source": [
    "We have 1 row of data about chemotherapy for all patients"
   ]
  },
  {
   "cell_type": "code",
   "execution_count": 20,
   "id": "2abeddb7-6a58-49f1-bf97-4d1a80bcb1e5",
   "metadata": {
    "tags": []
   },
   "outputs": [],
   "source": [
    "df = df[\n",
    "    (df[type_col] == 'Pharmaceutical Therapy, NOS')\n",
    "]"
   ]
  },
  {
   "cell_type": "code",
   "execution_count": 21,
   "id": "bcf77d37-7913-4c50-bfba-028419d08e91",
   "metadata": {
    "tags": []
   },
   "outputs": [
    {
     "data": {
      "text/plain": [
       "(323, 158)"
      ]
     },
     "execution_count": 21,
     "metadata": {},
     "output_type": "execute_result"
    }
   ],
   "source": [
    "df.shape"
   ]
  },
  {
   "cell_type": "code",
   "execution_count": 22,
   "id": "83cdbd15-3318-4708-a1d5-d1b0d5708ef3",
   "metadata": {
    "tags": []
   },
   "outputs": [
    {
     "data": {
      "text/plain": [
       "323"
      ]
     },
     "execution_count": 22,
     "metadata": {},
     "output_type": "execute_result"
    }
   ],
   "source": [
    "len(set(\n",
    "    df['case_id'].tolist()\n",
    "))"
   ]
  },
  {
   "cell_type": "code",
   "execution_count": 23,
   "id": "7d93f679-6bc1-4241-881b-ebe42612fe5b",
   "metadata": {
    "tags": []
   },
   "outputs": [
    {
     "data": {
      "text/plain": [
       "no              266\n",
       "yes              39\n",
       "not reported     18\n",
       "Name: treatment_or_therapy, dtype: int64"
      ]
     },
     "execution_count": 23,
     "metadata": {},
     "output_type": "execute_result"
    }
   ],
   "source": [
    "df[treat_col].value_counts()"
   ]
  },
  {
   "cell_type": "code",
   "execution_count": 24,
   "id": "bc9f78e4-7e75-41a0-be1f-d004dc47ea40",
   "metadata": {
    "tags": []
   },
   "outputs": [],
   "source": [
    "df.to_csv('1-dedup.csv', index=False)"
   ]
  }
 ],
 "metadata": {
  "kernelspec": {
   "display_name": "Python 3 (ipykernel)",
   "language": "python",
   "name": "python3"
  },
  "language_info": {
   "codemirror_mode": {
    "name": "ipython",
    "version": 3
   },
   "file_extension": ".py",
   "mimetype": "text/x-python",
   "name": "python",
   "nbconvert_exporter": "python",
   "pygments_lexer": "ipython3",
   "version": "3.7.16"
  }
 },
 "nbformat": 4,
 "nbformat_minor": 5
}
