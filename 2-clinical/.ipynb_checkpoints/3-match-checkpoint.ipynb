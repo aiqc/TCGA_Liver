{
 "cells": [
  {
   "cell_type": "markdown",
   "id": "35f38132-af46-41a4-aedd-048aea2d36a5",
   "metadata": {
    "tags": []
   },
   "source": [
    "# Propensity Matching"
   ]
  },
  {
   "cell_type": "code",
   "execution_count": null,
   "id": "69e765a1-2984-498e-86ed-e88ce0281108",
   "metadata": {
    "tags": []
   },
   "outputs": [],
   "source": [
    "import pandas as pd\n",
    "import plotly.express as px\n",
    "import plotly.graph_objects as go\n",
    "import plotly.figure_factory as ff"
   ]
  },
  {
   "cell_type": "code",
   "execution_count": null,
   "id": "554a5e29-496f-4102-b2a1-84b3c8bc9220",
   "metadata": {
    "tags": []
   },
   "outputs": [],
   "source": [
    "df = pd.read_csv('2-select.csv')"
   ]
  },
  {
   "cell_type": "code",
   "execution_count": null,
   "id": "85d83418-c6a6-4935-b491-77cf23f891f5",
   "metadata": {
    "tags": []
   },
   "outputs": [],
   "source": [
    "df.shape"
   ]
  },
  {
   "cell_type": "markdown",
   "id": "bce75732-a550-4f1b-9fef-5a8a45d7653b",
   "metadata": {
    "tags": []
   },
   "source": [
    "---"
   ]
  },
  {
   "cell_type": "code",
   "execution_count": null,
   "id": "8ae0613e-5061-4d8a-96b7-a521bfff5518",
   "metadata": {},
   "outputs": [],
   "source": [
    "t, n, m = 'ajcc_pathologic_t', 'ajcc_pathologic_n', 'ajcc_pathologic_m'"
   ]
  },
  {
   "cell_type": "code",
   "execution_count": null,
   "id": "6fa3a87d-c5fb-46f5-b3b1-bbb4198059bf",
   "metadata": {
    "tags": []
   },
   "outputs": [],
   "source": [
    "df_a = df[\n",
    "    (\n",
    "        (df[m]!='M1') &\n",
    "        (df[n]!='N1') & \n",
    "        (df[n]!='N2') & \n",
    "        (df[n]!='N3')\n",
    "    ) & (\n",
    "        df[t].str.contains('T2')\n",
    "    )\n",
    "]"
   ]
  },
  {
   "cell_type": "code",
   "execution_count": null,
   "id": "15455f95-aa49-43be-85c0-5ce4ca9d5f24",
   "metadata": {
    "tags": []
   },
   "outputs": [],
   "source": [
    "df_b = df[\n",
    "    (\n",
    "        (df[m]!='M1') &\n",
    "        (df[n]!='N1') & \n",
    "        (df[n]!='N2') & \n",
    "        (df[n]!='N3')\n",
    "    ) & (\n",
    "        (df[t]=='T4a') |\n",
    "        (df[t]=='T4') |\n",
    "        (df[t].str.contains('T3'))\n",
    "    )\n",
    "]"
   ]
  },
  {
   "cell_type": "code",
   "execution_count": null,
   "id": "344cae5a-3b41-4ea3-a534-530c88f1ff02",
   "metadata": {
    "tags": []
   },
   "outputs": [],
   "source": [
    "df_c = df[\n",
    "    (df[m]=='M1') | \n",
    "    (df[n]=='N1') | \n",
    "    (df[n]=='N2') | \n",
    "    (df[n]=='N3') |\n",
    "    (df[t]=='T4b')\n",
    "]"
   ]
  },
  {
   "cell_type": "code",
   "execution_count": null,
   "id": "16f4dd81-9571-43bf-b5e6-986ae0de31b9",
   "metadata": {
    "tags": []
   },
   "outputs": [],
   "source": [
    "%%capture\n",
    "df_a['stage_mibc'] = 'a'\n",
    "df_b['stage_mibc'] = 'b'\n",
    "df_c['stage_mibc'] = 'c'"
   ]
  },
  {
   "cell_type": "code",
   "execution_count": null,
   "id": "79db7cad-bde3-446e-8df2-3b3c9991d28f",
   "metadata": {
    "tags": []
   },
   "outputs": [],
   "source": [
    "df = pd.concat([df_a, df_b, df_c])"
   ]
  },
  {
   "cell_type": "code",
   "execution_count": null,
   "id": "a172ae31-2d6e-49bf-98ff-7c07426d6302",
   "metadata": {
    "tags": []
   },
   "outputs": [],
   "source": [
    "df.shape"
   ]
  },
  {
   "cell_type": "markdown",
   "id": "741f8267-e3c7-4d90-a67b-7c3543799de7",
   "metadata": {
    "tags": []
   },
   "source": [
    "---"
   ]
  },
  {
   "cell_type": "code",
   "execution_count": null,
   "id": "dba688d3-8657-450f-9daa-d9629a72ed5a",
   "metadata": {
    "tags": []
   },
   "outputs": [],
   "source": [
    "v, s, g, r, a, pm, pt, trt = 'vital_status', 'stage_mibc', 'gender', 'race', 'age_at_index', 'prior_malignancy', 'prior_treatment', 'treatment_or_therapy'"
   ]
  },
  {
   "cell_type": "code",
   "execution_count": null,
   "id": "e8878a60-d17f-4050-88c9-3e818e706c0e",
   "metadata": {},
   "outputs": [],
   "source": [
    "df_inspect = df.filter([v,s,trt])"
   ]
  },
  {
   "cell_type": "code",
   "execution_count": null,
   "id": "9da2eb07-00c0-45f2-aec1-baff9e0b99aa",
   "metadata": {},
   "outputs": [],
   "source": [
    "pd.DataFrame(\n",
    "    df_inspect.value_counts()\n",
    ").sort_values([v,s,trt])"
   ]
  },
  {
   "cell_type": "code",
   "execution_count": null,
   "id": "40ee4e83-2afc-4385-b6a4-1ba7b0aaa5c1",
   "metadata": {
    "tags": []
   },
   "outputs": [],
   "source": [
    "dfA, dfD = df[df[v]=='Alive'], df[df[v]=='Dead']"
   ]
  },
  {
   "cell_type": "markdown",
   "id": "fd647a38-d9ac-4031-874d-a291eaadef73",
   "metadata": {
    "tags": []
   },
   "source": [
    "Downsample the dead patients by propensity matching against characteristics of the alive patients"
   ]
  },
  {
   "cell_type": "code",
   "execution_count": null,
   "id": "10a9ff20-351f-4f7f-9403-1d3bf27a472b",
   "metadata": {
    "tags": []
   },
   "outputs": [],
   "source": [
    "all_match = False\n",
    "while not all_match:\n",
    "    dfD_aNo = dfD[(dfD[s]=='a') & (dfD[trt]=='no')] #2 short\n",
    "    dfD_aYes = dfD[(dfD[s]=='a') & (dfD[trt]=='yes')] #1 short    \n",
    "    \n",
    "    dfD_bNo = dfD[(dfD[s]=='b') & (dfD[trt]=='no')].sample(13) # extra 6 here\n",
    "    dfD_bYes = dfD[(dfD[s]=='b') & (dfD[trt]=='yes')] # 3 short\n",
    "    \n",
    "    dfD_cNo = dfD[(dfD[s]=='c') & (dfD[trt]=='no')].sample(3)\n",
    "    dfD_cYes = dfD[(dfD[s]=='c') & (dfD[trt]=='yes')].sample(7)\n",
    "    dfD_cNR = dfD[(dfD[s]=='c') & (dfD[trt]=='not reported')].sample(1)\n",
    "    \n",
    "    \n",
    "    dfD_sampled = pd.concat([\n",
    "        dfD_aNo, dfD_aYes, dfD_bNo, dfD_bYes, dfD_cNo, dfD_cYes, dfD_cNR\n",
    "    ])\n",
    "    \n",
    "    # --- Break out conditions ---\n",
    "    num_alive_pm = dfA[dfA[pm]=='yes'].shape[0]\n",
    "    num_dead_pm  = dfD_sampled[dfD_sampled[pm]=='yes'].shape[0]\n",
    "    if (num_alive_pm==num_dead_pm):\n",
    "    \n",
    "        # Nesting for performance\n",
    "        genders_match  = False\n",
    "        num_alive_male = dfA[dfA[g]=='male'].shape[0]\n",
    "        num_dead_male  = dfD_sampled[dfD_sampled[g]=='male'].shape[0]\n",
    "        if (num_alive_male==num_dead_male):\n",
    "\n",
    "            # Nesting for performance\n",
    "            num_alive_nr  = dfA[dfA[r]=='not reported'].shape[0]\n",
    "            num_dead_male = dfD_sampled[dfD_sampled[r]=='not reported'].shape[0]\n",
    "            if (num_alive_nr==num_dead_male):\n",
    "        \n",
    "                # once final match is made\n",
    "                all_match = True\n",
    "df_match = pd.concat([dfA,dfD_sampled])"
   ]
  },
  {
   "cell_type": "code",
   "execution_count": null,
   "id": "d662323a-08e1-4b6d-8bf4-42ac0d8684d0",
   "metadata": {
    "tags": []
   },
   "outputs": [],
   "source": [
    "df_match.shape"
   ]
  },
  {
   "cell_type": "code",
   "execution_count": null,
   "id": "0334e448-12dd-4584-8e79-a4174092c5a8",
   "metadata": {
    "tags": []
   },
   "outputs": [],
   "source": [
    "# df_match = pd.read_csv('3-match.csv')"
   ]
  },
  {
   "cell_type": "code",
   "execution_count": null,
   "id": "a0f26e31-51e2-4e3b-b5f2-4f653da0fff3",
   "metadata": {
    "tags": []
   },
   "outputs": [],
   "source": [
    "df_matched = df_match.filter([s,trt,v]).replace(\n",
    "    {'a':'stageA', 'b':'stageB', 'c':'stageC', 'no':'_noChemo', 'yes':'_yesChemo', 'not reported':'_notReport'}\n",
    ")"
   ]
  },
  {
   "cell_type": "code",
   "execution_count": null,
   "id": "4e071881-9d7a-42c5-8f47-aeac6c065a04",
   "metadata": {
    "tags": []
   },
   "outputs": [],
   "source": [
    "df_matched_alive = df_matched[\n",
    "    df_matched[v] == 'Alive'\n",
    "]"
   ]
  },
  {
   "cell_type": "code",
   "execution_count": null,
   "id": "416c6f1e-c381-4f43-bc28-032c44d9657c",
   "metadata": {
    "tags": []
   },
   "outputs": [],
   "source": [
    "df_matched_alive = pd.DataFrame(\n",
    "    df_matched_alive.groupby([s,trt]).size()\n",
    ").reset_index().rename(columns={0:'count'})"
   ]
  },
  {
   "cell_type": "code",
   "execution_count": null,
   "id": "8e0e8061-3a72-44a9-8633-d98ec1ac6ddd",
   "metadata": {
    "tags": []
   },
   "outputs": [],
   "source": [
    "df_matched_alive[v] = 'Alive'"
   ]
  },
  {
   "cell_type": "code",
   "execution_count": null,
   "id": "5c105add-17bb-4541-b6de-ec38fb047f46",
   "metadata": {
    "tags": []
   },
   "outputs": [],
   "source": [
    "df_matched_dead = df_matched[\n",
    "    df_matched[v] == 'Dead'\n",
    "]"
   ]
  },
  {
   "cell_type": "code",
   "execution_count": null,
   "id": "5328b5d2-3d3a-4be8-a9c7-f9df499b38ad",
   "metadata": {
    "tags": []
   },
   "outputs": [],
   "source": [
    "df_matched_dead = pd.DataFrame(\n",
    "    df_matched_dead.groupby([s,trt]).size()\n",
    ").reset_index().rename(columns={0:'count'})"
   ]
  },
  {
   "cell_type": "code",
   "execution_count": null,
   "id": "c8eac386-4925-4f6a-ba4d-9ab97f4b8329",
   "metadata": {
    "tags": []
   },
   "outputs": [],
   "source": [
    "df_matched_dead[v] = 'Dead'"
   ]
  },
  {
   "cell_type": "code",
   "execution_count": null,
   "id": "c308c030-8518-4d96-a975-c2c67638033f",
   "metadata": {
    "tags": []
   },
   "outputs": [],
   "source": [
    "df_matched = pd.concat([df_matched_alive, df_matched_dead])"
   ]
  },
  {
   "cell_type": "code",
   "execution_count": null,
   "id": "8d7f47ec-dc4f-4590-a028-adc5d64c0c47",
   "metadata": {
    "tags": []
   },
   "outputs": [],
   "source": [
    "df_matched['Status: MIBC_Stage_&_Chemotherapy'] = df_matched[s] + df_matched[trt]"
   ]
  },
  {
   "cell_type": "code",
   "execution_count": null,
   "id": "bb3f96b0-b332-47e1-8802-dd89c73648de",
   "metadata": {
    "tags": []
   },
   "outputs": [],
   "source": [
    "df_matched = df_matched.drop(columns=[s, trt])"
   ]
  },
  {
   "cell_type": "code",
   "execution_count": null,
   "id": "21fc844e-8b4b-49dd-a994-40ef6aec888f",
   "metadata": {
    "tags": []
   },
   "outputs": [],
   "source": [
    "px.histogram(\n",
    "    df_matched, title=\"Propensity Matching by Pathological Stage & Adjuvant Chemotherapy Distributions\", \n",
    "    x=\"Status: MIBC_Stage_&_Chemotherapy\", y='count', color=v, \n",
    "    opacity=0.5, barmode='group', \n",
    ").update_layout(\n",
    "    yaxis = dict(dtick=2)\n",
    ")"
   ]
  },
  {
   "cell_type": "code",
   "execution_count": null,
   "id": "bb39f771-f326-4017-b70f-ebdaa86e9dff",
   "metadata": {
    "tags": []
   },
   "outputs": [],
   "source": [
    "df_pt = df_match.filter([pt,v])"
   ]
  },
  {
   "cell_type": "code",
   "execution_count": null,
   "id": "6e7deabb-fd31-46b5-b741-3c3e7df0b0c5",
   "metadata": {
    "tags": []
   },
   "outputs": [],
   "source": [
    "pt_counts = pd.DataFrame(\n",
    "    df_pt.value_counts()\n",
    ").reset_index().rename(columns={0:'counts'})"
   ]
  },
  {
   "cell_type": "code",
   "execution_count": null,
   "id": "66df81f5-dcc9-4c18-81dd-c24780c460f9",
   "metadata": {
    "tags": []
   },
   "outputs": [],
   "source": [
    "px.histogram(\n",
    "    pt_counts, title=\"Prior Treatment Distributions\", \n",
    "    x=pt, y='counts', color=v, \n",
    "    opacity=0.5, barmode='group'\n",
    ").update_layout(\n",
    "    yaxis = dict(title='Count', dtick=5),\n",
    "    xaxis = dict(title=pt)\n",
    ")"
   ]
  },
  {
   "cell_type": "code",
   "execution_count": null,
   "id": "e44b30ad-38b5-4f18-ad38-a41b5db45583",
   "metadata": {
    "tags": []
   },
   "outputs": [],
   "source": [
    "df_pm = df_match.filter([pm,v])"
   ]
  },
  {
   "cell_type": "code",
   "execution_count": null,
   "id": "f6da5a83-bceb-48dc-8697-0ba048310c83",
   "metadata": {
    "tags": []
   },
   "outputs": [],
   "source": [
    "pm_counts = pd.DataFrame(\n",
    "    df_pm.value_counts()\n",
    ").reset_index().rename(columns={0:'counts'})"
   ]
  },
  {
   "cell_type": "code",
   "execution_count": null,
   "id": "b1461522-e9df-4f95-9d7a-f2e1c3e03aec",
   "metadata": {
    "tags": []
   },
   "outputs": [],
   "source": [
    "px.histogram(\n",
    "    pm_counts, title=\"Prior Malignancy Distributions\", \n",
    "    x=pm, y='counts', color=v, \n",
    "    opacity=0.5, barmode='group'\n",
    ").update_layout(\n",
    "    yaxis = dict(title='Count', dtick=5),\n",
    "    xaxis = dict(title=pm)\n",
    ")"
   ]
  },
  {
   "cell_type": "code",
   "execution_count": null,
   "id": "45626d6b-2633-4167-bab4-acf9211bef4a",
   "metadata": {
    "tags": []
   },
   "outputs": [],
   "source": [
    "df_genders = df_match.filter([g,v])"
   ]
  },
  {
   "cell_type": "code",
   "execution_count": null,
   "id": "bdcf02cc-1e78-4283-b9ea-6d2025585aa7",
   "metadata": {
    "tags": []
   },
   "outputs": [],
   "source": [
    "gender_counts = pd.DataFrame(\n",
    "    df_genders.value_counts()\n",
    ").reset_index().rename(columns={0:'counts'})"
   ]
  },
  {
   "cell_type": "code",
   "execution_count": null,
   "id": "9b9be0c3-232c-46bd-a7f2-0e886a7011a7",
   "metadata": {
    "tags": []
   },
   "outputs": [],
   "source": [
    "px.histogram(\n",
    "    gender_counts, title=\"Gender Distributions\", \n",
    "    x=g, y='counts', color=v, \n",
    "    opacity=0.5, barmode='group'\n",
    ").update_layout(\n",
    "    yaxis = dict(title='Count', dtick=5),\n",
    "    xaxis = dict(title=g)\n",
    ")"
   ]
  },
  {
   "cell_type": "markdown",
   "id": "a9234249-71d6-4eb8-b7a0-5fae29e7d151",
   "metadata": {
    "tags": []
   },
   "source": [
    "The only race that I could get to match was \"not reported\""
   ]
  },
  {
   "cell_type": "code",
   "execution_count": null,
   "id": "272c2850-43ea-442f-8e49-ab67258c14ca",
   "metadata": {
    "tags": []
   },
   "outputs": [],
   "source": [
    "df_race = df_match.filter([r,v])"
   ]
  },
  {
   "cell_type": "code",
   "execution_count": null,
   "id": "24e7effd-4f5d-4280-a808-f1d0a6808c81",
   "metadata": {
    "tags": []
   },
   "outputs": [],
   "source": [
    "race_counts = pd.DataFrame(\n",
    "    df_race.value_counts()\n",
    ").reset_index().rename(columns={0:'counts'})"
   ]
  },
  {
   "cell_type": "code",
   "execution_count": null,
   "id": "2fff7458-2ed5-4327-a735-2195a92cd411",
   "metadata": {
    "tags": []
   },
   "outputs": [],
   "source": [
    "px.histogram(\n",
    "    race_counts, title=\"Race Distributions\",\n",
    "    x=r, y='counts', color=v, \n",
    "    opacity=0.5, barmode='group'\n",
    ").update_layout(\n",
    "    yaxis = dict(title='Count', dtick=5),\n",
    "    xaxis = dict(title=r)\n",
    ")"
   ]
  },
  {
   "cell_type": "code",
   "execution_count": null,
   "id": "edbba64c-3918-4cce-bbee-f72c6c44c521",
   "metadata": {
    "tags": []
   },
   "outputs": [],
   "source": [
    "df_age = df_match.filter([a,v])"
   ]
  },
  {
   "cell_type": "code",
   "execution_count": null,
   "id": "427daea8-5553-427c-9c72-e13d5d162b0d",
   "metadata": {
    "tags": []
   },
   "outputs": [],
   "source": [
    "x0 = df_age[df_age[v]=='Alive'][a].tolist()\n",
    "x1 = df_age[df_age[v]=='Dead'][a].tolist()"
   ]
  },
  {
   "cell_type": "code",
   "execution_count": null,
   "id": "da2c1506-aad7-4266-8e73-b704498031a0",
   "metadata": {
    "tags": []
   },
   "outputs": [],
   "source": [
    "fig = go.Figure()\n",
    "fig.add_trace(go.Histogram(x=x0, nbinsx=5, name='Alive'))\n",
    "fig.add_trace(go.Histogram(x=x1, nbinsx=5, name='Dead'))\n",
    "\n",
    "# Overlay both histograms\n",
    "fig.update_layout(\n",
    "    barmode='overlay', title=\"Age Distributions (Overlaid)\",\n",
    "    yaxis = dict(title='Count', dtick=3),\n",
    "    xaxis = dict(title=a, dtick=10,)\n",
    ")\n",
    "# Reduce opacity to see both histograms\n",
    "fig.update_traces(opacity=0.35)\n",
    "fig.show()"
   ]
  },
  {
   "cell_type": "markdown",
   "id": "4b5b1995-94ee-475d-a360-4c60ada4ecc1",
   "metadata": {
    "tags": []
   },
   "source": [
    "Commented out to prevent overwriting this critical file"
   ]
  },
  {
   "cell_type": "code",
   "execution_count": null,
   "id": "cd8970e4-bdec-4b5d-a733-9037eaeb456f",
   "metadata": {
    "tags": []
   },
   "outputs": [],
   "source": [
    "# df_match.to_csv(\"3-match.csv\",index=False)"
   ]
  }
 ],
 "metadata": {
  "kernelspec": {
   "display_name": "Python 3 (ipykernel)",
   "language": "python",
   "name": "python3"
  },
  "language_info": {
   "codemirror_mode": {
    "name": "ipython",
    "version": 3
   },
   "file_extension": ".py",
   "mimetype": "text/x-python",
   "name": "python",
   "nbconvert_exporter": "python",
   "pygments_lexer": "ipython3",
   "version": "3.7.16"
  }
 },
 "nbformat": 4,
 "nbformat_minor": 5
}
