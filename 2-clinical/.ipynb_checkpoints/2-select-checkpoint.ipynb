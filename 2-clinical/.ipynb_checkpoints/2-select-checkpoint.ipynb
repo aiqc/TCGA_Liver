{
 "cells": [
  {
   "cell_type": "markdown",
   "id": "941ec691-0312-4d0d-82c0-041b83593ae9",
   "metadata": {
    "tags": []
   },
   "source": [
    "# Cohort Selection Criteria\n",
    "\n",
    "The purpose of this file is to get a sense of how many survivors there are and how death is distributed across 5 years.\n",
    "\n",
    "There are a few dead patients with prior treatment, but we don't know if they have all the necessary germ/tum files yet."
   ]
  },
  {
   "cell_type": "code",
   "execution_count": 24,
   "id": "c35f5bc5-f594-408f-b57d-2abdeea60aca",
   "metadata": {
    "tags": []
   },
   "outputs": [],
   "source": [
    "import pandas as pd\n",
    "import matplotlib.pyplot as plt"
   ]
  },
  {
   "cell_type": "code",
   "execution_count": 25,
   "id": "4802d23f-8711-4dc4-93db-5011ed52e3ab",
   "metadata": {
    "tags": []
   },
   "outputs": [],
   "source": [
    "pd.set_option('display.max_columns', None)\n",
    "pd.set_option('display.max_rows', 500)"
   ]
  },
  {
   "cell_type": "code",
   "execution_count": 26,
   "id": "59402693-7f86-4473-884c-c664ebfc49bf",
   "metadata": {
    "tags": []
   },
   "outputs": [],
   "source": [
    "df = pd.read_csv('1-dedup.csv')"
   ]
  },
  {
   "cell_type": "markdown",
   "id": "6647f91e-506d-444d-969c-172317ce2b08",
   "metadata": {},
   "source": [
    "---"
   ]
  },
  {
   "cell_type": "code",
   "execution_count": 27,
   "id": "65dbe586-4420-4794-a100-187f9db17f03",
   "metadata": {
    "tags": []
   },
   "outputs": [
    {
     "data": {
      "text/plain": [
       "No     320\n",
       "Yes      2\n",
       "Name: prior_treatment, dtype: int64"
      ]
     },
     "execution_count": 27,
     "metadata": {},
     "output_type": "execute_result"
    }
   ],
   "source": [
    "df['prior_treatment'].value_counts()"
   ]
  },
  {
   "cell_type": "code",
   "execution_count": 28,
   "id": "10ed5bd7-ba19-4d54-b1b0-4f2fbf283497",
   "metadata": {
    "tags": []
   },
   "outputs": [],
   "source": [
    "df = df[\n",
    "    df['prior_treatment']==\"No\"\n",
    "]"
   ]
  },
  {
   "cell_type": "code",
   "execution_count": 29,
   "id": "49950cd5-cb46-44c4-a9f9-ad721ac2c13e",
   "metadata": {
    "tags": []
   },
   "outputs": [
    {
     "data": {
      "text/plain": [
       "no     296\n",
       "yes     24\n",
       "Name: prior_malignancy, dtype: int64"
      ]
     },
     "execution_count": 29,
     "metadata": {},
     "output_type": "execute_result"
    }
   ],
   "source": [
    "df['prior_malignancy'].value_counts()"
   ]
  },
  {
   "cell_type": "code",
   "execution_count": 30,
   "id": "1dbd9627-1f5f-401b-87ad-445b3bb5b614",
   "metadata": {
    "tags": []
   },
   "outputs": [],
   "source": [
    "follow_days = 365*4"
   ]
  },
  {
   "cell_type": "markdown",
   "id": "b0c79767-1fde-4c2d-b3f4-5a125a316ad2",
   "metadata": {
    "tags": []
   },
   "source": [
    "---"
   ]
  },
  {
   "cell_type": "markdown",
   "id": "39d80f54-3333-40a6-9308-ecbf98b52fc5",
   "metadata": {},
   "source": [
    "# Survivors"
   ]
  },
  {
   "cell_type": "markdown",
   "id": "3ae743ae-a9e5-43ae-8e04-a01c1f39dbfe",
   "metadata": {},
   "source": [
    "Need a threshold for minimum follow up so that we can make sure they are actually alive"
   ]
  },
  {
   "cell_type": "code",
   "execution_count": 31,
   "id": "99505e9b-985a-4e8a-888d-bb0c316259ae",
   "metadata": {
    "tags": []
   },
   "outputs": [],
   "source": [
    "df_alive = df[\n",
    "    (df['vital_status'] == 'Alive') & (df['days_to_last_follow_up']!=\"'--\")\n",
    "].astype({'days_to_last_follow_up':'float64'})"
   ]
  },
  {
   "cell_type": "markdown",
   "id": "7dd222fe-1d9f-456e-bd53-e9a65c344c00",
   "metadata": {},
   "source": [
    "Follow up dropping off after 5 years doesn't mean they died. They may have stopped following up."
   ]
  },
  {
   "cell_type": "code",
   "execution_count": 32,
   "id": "7ab70155-9289-46b4-a122-1d0e619276b1",
   "metadata": {
    "tags": []
   },
   "outputs": [],
   "source": [
    "df_aliveMatch = df_alive[\n",
    "    (df_alive['days_to_last_follow_up'] >=  follow_days)\n",
    "]"
   ]
  },
  {
   "cell_type": "code",
   "execution_count": 33,
   "id": "2d8d4d26-056d-4062-8314-0476d37ce660",
   "metadata": {
    "tags": []
   },
   "outputs": [
    {
     "data": {
      "text/plain": [
       "No    44\n",
       "Name: prior_treatment, dtype: int64"
      ]
     },
     "execution_count": 33,
     "metadata": {},
     "output_type": "execute_result"
    }
   ],
   "source": [
    "df_aliveMatch['prior_treatment'].value_counts()"
   ]
  },
  {
   "cell_type": "markdown",
   "id": "444e6507-c847-4641-98cc-9fb73100aa5f",
   "metadata": {},
   "source": [
    "## Plot Data for Survivors"
   ]
  },
  {
   "cell_type": "code",
   "execution_count": 34,
   "id": "097dda58-3599-4d8e-a6f0-614f9f3c246f",
   "metadata": {
    "tags": []
   },
   "outputs": [],
   "source": [
    "alives = []\n",
    "for i in range(9):\n",
    "    i = i*365\n",
    "    \n",
    "    a = df_alive[\n",
    "        df_alive['days_to_last_follow_up'] >= i\n",
    "    ].shape[0]\n",
    "    \n",
    "    alives.append(a)"
   ]
  },
  {
   "cell_type": "markdown",
   "id": "8b9a11a0-039f-4c12-8c3c-059a949e3186",
   "metadata": {},
   "source": [
    "---"
   ]
  },
  {
   "cell_type": "markdown",
   "id": "c1daf325-b77a-4a5d-bf4e-a2a6b51ca2bd",
   "metadata": {},
   "source": [
    "# Deceased"
   ]
  },
  {
   "cell_type": "code",
   "execution_count": 35,
   "id": "b660d9ca-8813-4160-a51d-9208766af569",
   "metadata": {
    "tags": []
   },
   "outputs": [],
   "source": [
    "df_dead = df[\n",
    "    (df['vital_status'] == 'Dead') & (df['days_to_death'] != \"'--\")\n",
    "].astype({'days_to_death':'int64'})"
   ]
  },
  {
   "cell_type": "code",
   "execution_count": 36,
   "id": "b9de573b-526f-4d9d-809b-2bc6e10654bd",
   "metadata": {
    "tags": []
   },
   "outputs": [
    {
     "data": {
      "text/plain": [
       "95"
      ]
     },
     "execution_count": 36,
     "metadata": {},
     "output_type": "execute_result"
    }
   ],
   "source": [
    "df_dead.shape[0]"
   ]
  },
  {
   "cell_type": "markdown",
   "id": "f75b28e2-e11d-489e-b3be-6ddaf4a2fec9",
   "metadata": {
    "tags": []
   },
   "source": [
    "There is a lot of early death. Liver failure common after surgery:\n",
    "- 10% of deaths in the first 0.5 months.\n",
    "- 20% of deaths in the first 2 months\n",
    "- 33% of deaths in the first 4 months.\n",
    "- Plateaus after that"
   ]
  },
  {
   "cell_type": "code",
   "execution_count": 58,
   "id": "3e08e2f2-a142-4bc1-837f-d19c6524ae9d",
   "metadata": {
    "tags": []
   },
   "outputs": [],
   "source": [
    "df_deadMatch = df_dead[\n",
    "    (df_dead['days_to_death'] >= 120) & \n",
    "    (df_dead['days_to_death'] <= follow_days)\n",
    "]"
   ]
  },
  {
   "cell_type": "code",
   "execution_count": 59,
   "id": "6aca4a56-294b-499d-bf69-21421e937fd5",
   "metadata": {
    "tags": []
   },
   "outputs": [
    {
     "data": {
      "text/plain": [
       "65"
      ]
     },
     "execution_count": 59,
     "metadata": {},
     "output_type": "execute_result"
    }
   ],
   "source": [
    "df_deadMatch.shape[0]"
   ]
  },
  {
   "cell_type": "code",
   "execution_count": 60,
   "id": "4b1f1177-ef51-42dc-93c2-ff45763127b5",
   "metadata": {
    "tags": []
   },
   "outputs": [
    {
     "data": {
      "text/plain": [
       "No    65\n",
       "Name: prior_treatment, dtype: int64"
      ]
     },
     "execution_count": 60,
     "metadata": {},
     "output_type": "execute_result"
    }
   ],
   "source": [
    "df_deadMatch['prior_treatment'].value_counts()"
   ]
  },
  {
   "cell_type": "markdown",
   "id": "2e5e4f7f-f774-41f8-be1c-155e9cd723df",
   "metadata": {},
   "source": [
    "## Plot Data for Deceased"
   ]
  },
  {
   "cell_type": "code",
   "execution_count": 61,
   "id": "1f3479fd-80a2-41dd-af70-7964039f79b5",
   "metadata": {
    "tags": []
   },
   "outputs": [],
   "source": [
    "num_dead = df_dead.shape[0]"
   ]
  },
  {
   "cell_type": "code",
   "execution_count": 62,
   "id": "41905e26-0ac8-42cd-9941-90f633caebf1",
   "metadata": {
    "tags": []
   },
   "outputs": [],
   "source": [
    "deads = []\n",
    "for i in range(9):\n",
    "    i = i*365\n",
    "    \n",
    "    d = df_dead[\n",
    "        (df_dead['days_to_death'] >= i)\n",
    "    ].shape[0]\n",
    "    \n",
    "    d = num_dead - d\n",
    "    \n",
    "    deads.append(d)"
   ]
  },
  {
   "cell_type": "markdown",
   "id": "7cc08a1c-5708-4218-b7ce-c19de2855b84",
   "metadata": {
    "tags": []
   },
   "source": [
    "---"
   ]
  },
  {
   "cell_type": "markdown",
   "id": "5683781b-2122-4ab5-b0fd-45e9956e49b3",
   "metadata": {},
   "source": [
    "## Survival Plots for Decision Making"
   ]
  },
  {
   "cell_type": "code",
   "execution_count": 63,
   "id": "b45e198e-b4d9-48ef-b451-1edae7bfe32e",
   "metadata": {
    "tags": []
   },
   "outputs": [
    {
     "data": {
      "text/plain": [
       "<matplotlib.collections.LineCollection at 0x7527395cde50>"
      ]
     },
     "execution_count": 63,
     "metadata": {},
     "output_type": "execute_result"
    },
    {
     "data": {
      "image/png": "[encoded data removed]",
      "text/plain": [
       "<Figure size 640x480 with 1 Axes>"
      ]
     },
     "metadata": {},
     "output_type": "display_data"
    }
   ],
   "source": [
    "plt.plot(deads, color='red')\n",
    "plt.xlabel(\"Years\")\n",
    "plt.ylabel(\"Total Patient Deaths\")\n",
    "plt.title(\"Accumulated Deaths\")\n",
    "\n",
    "plt.hlines(y=88, xmin=0, xmax=4, color='green', ls=\"-\")\n",
    "plt.hlines(y=92, xmin=0, xmax=5, color='gray', ls=\"--\")\n",
    "\n",
    "plt.vlines(x=4, ymin=0, ymax=88, color='green', ls=\"-\")\n",
    "plt.vlines(x=5, ymin=0, ymax=92, color='gray', ls=\"--\")"
   ]
  },
  {
   "cell_type": "code",
   "execution_count": 64,
   "id": "42c3a738-5ad2-44ca-b659-e0457ae16171",
   "metadata": {
    "tags": []
   },
   "outputs": [
    {
     "data": {
      "text/plain": [
       "6.481481481481488"
      ]
     },
     "execution_count": 64,
     "metadata": {},
     "output_type": "execute_result"
    }
   ],
   "source": [
    "((115/108)-1)*100"
   ]
  },
  {
   "cell_type": "markdown",
   "id": "9b4de0f4-8173-48ca-81e1-c1dd9f2c90c4",
   "metadata": {},
   "source": [
    "- Death is incremental after 3 years. It plateaus.\n",
    "- Keep in mind that we don't know cause of death, and that obesity goes hand-in-hand with cancer. As time goes on, the chance of death from non-cancer causes increase."
   ]
  },
  {
   "cell_type": "code",
   "execution_count": 65,
   "id": "5e31b79c-d306-4958-b728-c98a81cf198f",
   "metadata": {
    "tags": []
   },
   "outputs": [
    {
     "data": {
      "text/plain": [
       "<matplotlib.collections.LineCollection at 0x75273904e9d0>"
      ]
     },
     "execution_count": 65,
     "metadata": {},
     "output_type": "execute_result"
    },
    {
     "data": {
      "image/png": "[encoded data removed]",
      "text/plain": [
       "<Figure size 640x480 with 1 Axes>"
      ]
     },
     "metadata": {},
     "output_type": "display_data"
    }
   ],
   "source": [
    "plt.plot(alives)\n",
    "plt.xlabel(\"Years\")\n",
    "plt.ylabel(\"Survivors with Follow Up\")\n",
    "plt.title(\"Diminishing Survivor Follow Up\")\n",
    "\n",
    "plt.hlines(y=44, xmin=0, xmax=4, color='gray', ls=\"--\")\n",
    "plt.hlines(y=29, xmin=0, xmax=5, color='green', ls=\"-\")\n",
    "\n",
    "plt.vlines(x=4, ymin=0, ymax=44, color='gray', ls=\"--\")\n",
    "plt.vlines(x=5, ymin=0, ymax=29, color='green', ls=\"-\")"
   ]
  },
  {
   "cell_type": "markdown",
   "id": "2814e7e8-aafa-4eae-98dd-aad82383f88d",
   "metadata": {},
   "source": [
    "---"
   ]
  },
  {
   "cell_type": "code",
   "execution_count": 66,
   "id": "b76d1b98-6238-40ec-8748-392efa06cbbc",
   "metadata": {
    "tags": []
   },
   "outputs": [],
   "source": [
    "df_match = pd.concat([df_aliveMatch,df_deadMatch])"
   ]
  },
  {
   "cell_type": "code",
   "execution_count": 67,
   "id": "fb433025-6ef9-4ca2-ab04-205938a0fb8b",
   "metadata": {
    "tags": []
   },
   "outputs": [
    {
     "data": {
      "text/plain": [
       "(109, 158)"
      ]
     },
     "execution_count": 67,
     "metadata": {},
     "output_type": "execute_result"
    }
   ],
   "source": [
    "df_match.shape"
   ]
  },
  {
   "cell_type": "code",
   "execution_count": 68,
   "id": "fbad11c9-4371-43d9-923a-64130505638e",
   "metadata": {
    "tags": []
   },
   "outputs": [
    {
     "data": {
      "text/plain": [
       "Dead     65\n",
       "Alive    44\n",
       "Name: vital_status, dtype: int64"
      ]
     },
     "execution_count": 68,
     "metadata": {},
     "output_type": "execute_result"
    }
   ],
   "source": [
    "df_match['vital_status'].value_counts()"
   ]
  },
  {
   "cell_type": "code",
   "execution_count": 69,
   "id": "e75aa566-b689-4481-b41f-09a153384f47",
   "metadata": {
    "tags": []
   },
   "outputs": [
    {
     "data": {
      "text/plain": [
       "TCGA-LIHC    109\n",
       "Name: project_id, dtype: int64"
      ]
     },
     "execution_count": 69,
     "metadata": {},
     "output_type": "execute_result"
    }
   ],
   "source": [
    "df_match['project_id'].value_counts()"
   ]
  },
  {
   "cell_type": "code",
   "execution_count": 70,
   "id": "c6711a49-877e-438e-82f0-4e9475f12948",
   "metadata": {
    "tags": []
   },
   "outputs": [
    {
     "data": {
      "text/plain": [
       "Series([], Name: vital_status, dtype: int64)"
      ]
     },
     "execution_count": 70,
     "metadata": {},
     "output_type": "execute_result"
    }
   ],
   "source": [
    "df_match[\n",
    "    df_match['project_id']=='TCGA-LUAD'\n",
    "]['vital_status'].value_counts()"
   ]
  },
  {
   "cell_type": "code",
   "execution_count": 71,
   "id": "833fb42f-b906-4b3c-b93e-159ba387e892",
   "metadata": {
    "tags": []
   },
   "outputs": [
    {
     "data": {
      "text/plain": [
       "Series([], Name: vital_status, dtype: int64)"
      ]
     },
     "execution_count": 71,
     "metadata": {},
     "output_type": "execute_result"
    }
   ],
   "source": [
    "df_match[\n",
    "    df_match['project_id']=='TCGA-LUSC'\n",
    "]['vital_status'].value_counts()"
   ]
  },
  {
   "cell_type": "markdown",
   "id": "2f3867fa-2f1a-49c7-914f-477c71bd58b7",
   "metadata": {
    "tags": []
   },
   "source": [
    "11 patients where age is unknown"
   ]
  },
  {
   "cell_type": "code",
   "execution_count": 72,
   "id": "efbe4938-db5b-4a6e-a996-d8c6396529d5",
   "metadata": {
    "tags": []
   },
   "outputs": [],
   "source": [
    "# df_match = df_match.astype({'age_at_index':'int'})"
   ]
  },
  {
   "cell_type": "code",
   "execution_count": 73,
   "id": "03379097-8971-4aa2-81e7-77f446794bee",
   "metadata": {
    "tags": []
   },
   "outputs": [],
   "source": [
    "df_match.to_csv('2-select.csv',index=False)"
   ]
  }
 ],
 "metadata": {
  "kernelspec": {
   "display_name": "Python 3 (ipykernel)",
   "language": "python",
   "name": "python3"
  },
  "language_info": {
   "codemirror_mode": {
    "name": "ipython",
    "version": 3
   },
   "file_extension": ".py",
   "mimetype": "text/x-python",
   "name": "python",
   "nbconvert_exporter": "python",
   "pygments_lexer": "ipython3",
   "version": "3.7.16"
  }
 },
 "nbformat": 4,
 "nbformat_minor": 5
}
