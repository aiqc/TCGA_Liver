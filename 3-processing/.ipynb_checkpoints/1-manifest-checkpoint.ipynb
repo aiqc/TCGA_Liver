{
 "cells": [
  {
   "cell_type": "code",
   "execution_count": 27,
   "id": "b14fa5ed-a207-4bd1-be46-5920f8b17e2a",
   "metadata": {
    "tags": []
   },
   "outputs": [
    {
     "data": {
      "text/plain": [
       "'/mnt/4TB/TCGA_Liver/scripts/3-processing'"
      ]
     },
     "execution_count": 27,
     "metadata": {},
     "output_type": "execute_result"
    }
   ],
   "source": [
    "pwd"
   ]
  },
  {
   "cell_type": "code",
   "execution_count": 28,
   "id": "688cad2b-5c91-43a0-a711-fea83e754d73",
   "metadata": {
    "tags": []
   },
   "outputs": [],
   "source": [
    "import pandas as pd\n",
    "import json"
   ]
  },
  {
   "cell_type": "markdown",
   "id": "b4661315-0f61-4ba9-ba94-1d38a7c6f1be",
   "metadata": {
    "tags": []
   },
   "source": [
    "These are the cases that satisfy cohort criteria"
   ]
  },
  {
   "cell_type": "code",
   "execution_count": 29,
   "id": "4cc2f253-596b-4b74-85cc-cf56277d3ccb",
   "metadata": {
    "tags": []
   },
   "outputs": [],
   "source": [
    "case_ids = pd.read_csv('../2-clinical/2-select.csv')['case_id']"
   ]
  },
  {
   "cell_type": "code",
   "execution_count": 30,
   "id": "a2aca046-7f3b-43c7-8353-a83575811fa9",
   "metadata": {
    "tags": []
   },
   "outputs": [
    {
     "data": {
      "text/plain": [
       "True"
      ]
     },
     "execution_count": 30,
     "metadata": {},
     "output_type": "execute_result"
    }
   ],
   "source": [
    "len(case_ids) == len(set(case_ids))"
   ]
  },
  {
   "cell_type": "code",
   "execution_count": 31,
   "id": "d206a1ea-249e-43ab-915c-48785fbc1bc6",
   "metadata": {
    "tags": []
   },
   "outputs": [
    {
     "data": {
      "text/plain": [
       "109"
      ]
     },
     "execution_count": 31,
     "metadata": {},
     "output_type": "execute_result"
    }
   ],
   "source": [
    "len(case_ids)"
   ]
  },
  {
   "cell_type": "markdown",
   "id": "423cf6b5-4758-408d-b0d2-3c1ad0267a6a",
   "metadata": {
    "tags": []
   },
   "source": [
    "These are all of the advanced colorectal cancer files from the portal. We need to get the subset of these that satisfy the cohort inclusion criteria"
   ]
  },
  {
   "cell_type": "markdown",
   "id": "8bbd180e-e85e-49ed-a0ae-4df91f721380",
   "metadata": {
    "tags": []
   },
   "source": [
    "Sometimes there are multiple files per case"
   ]
  },
  {
   "cell_type": "code",
   "execution_count": 32,
   "id": "e04e54c1-6397-4b8c-a34d-feb98a97b0c8",
   "metadata": {
    "tags": []
   },
   "outputs": [],
   "source": [
    "with open('metadata.json') as f:\n",
    "    metadata = json.load(f)"
   ]
  },
  {
   "cell_type": "code",
   "execution_count": 33,
   "id": "fc860091-9d83-42ec-a3e1-fa4a9119844a",
   "metadata": {
    "tags": []
   },
   "outputs": [
    {
     "data": {
      "text/plain": [
       "322"
      ]
     },
     "execution_count": 33,
     "metadata": {},
     "output_type": "execute_result"
    }
   ],
   "source": [
    "len(metadata)"
   ]
  },
  {
   "cell_type": "code",
   "execution_count": 34,
   "id": "d4a3bbb6-7a04-47f4-961c-f70e6d44ea53",
   "metadata": {
    "tags": []
   },
   "outputs": [
    {
     "data": {
      "text/plain": [
       "{'data_format': 'BAM',\n",
       " 'access': 'controlled',\n",
       " 'associated_entities': [{'entity_submitter_id': 'TCGA-DD-AAW1-10A-01D-A40P-10',\n",
       "   'entity_type': 'aliquot',\n",
       "   'case_id': '31c7d56b-4af7-4fdb-ba83-63bf615fcc3d',\n",
       "   'entity_id': '7730846e-e3d4-44d3-a53c-47ab352eaf6e'}],\n",
       " 'file_name': '7730846e-e3d4-44d3-a53c-47ab352eaf6e_wxs_gdc_realn.bam',\n",
       " 'submitter_id': 'eb8ba4f9-133a-4279-b297-5bc7fbff9aaf',\n",
       " 'data_category': 'Sequencing Reads',\n",
       " 'downstream_analyses': [{'output_files': [{'data_format': 'VCF',\n",
       "     'access': 'controlled',\n",
       "     'file_name': 'ec983056-1048-4497-9868-4d41d09bca4c.wxs.mutect2.raw_somatic_mutation.vcf.gz',\n",
       "     'file_id': '55dcade6-ca3b-4a2a-b5ee-ce0012535848',\n",
       "     'data_type': 'Raw Simple Somatic Mutation',\n",
       "     'data_category': 'Simple Nucleotide Variation',\n",
       "     'file_size': 334007}],\n",
       "   'workflow_type': 'MuTect2'},\n",
       "  {'output_files': [{'data_format': 'VCF',\n",
       "     'access': 'controlled',\n",
       "     'file_name': 'ec983056-1048-4497-9868-4d41d09bca4c.wxs.varscan2.raw_somatic_mutation.vcf.gz',\n",
       "     'file_id': '7479c339-f041-4e88-820b-bd1f597b6db4',\n",
       "     'data_type': 'Raw Simple Somatic Mutation',\n",
       "     'data_category': 'Simple Nucleotide Variation',\n",
       "     'file_size': 49280}],\n",
       "   'workflow_type': 'VarScan2'},\n",
       "  {'output_files': [{'data_format': 'VCF',\n",
       "     'access': 'controlled',\n",
       "     'file_name': '413a53b2-ad3a-4e26-aff6-3aa9f6d57cfa.wxs.pindel.raw_somatic_mutation.vcf.gz',\n",
       "     'file_id': '68f458ae-a208-4780-ac94-1e7c9d1b5546',\n",
       "     'data_type': 'Raw Simple Somatic Mutation',\n",
       "     'data_category': 'Simple Nucleotide Variation',\n",
       "     'file_size': 23839}],\n",
       "   'workflow_type': 'Pindel'},\n",
       "  {'workflow_type': 'SomaticSniper'},\n",
       "  {'output_files': [{'data_format': 'VCF',\n",
       "     'access': 'controlled',\n",
       "     'file_name': 'ec983056-1048-4497-9868-4d41d09bca4c.wxs.muse.raw_somatic_mutation.vcf.gz',\n",
       "     'file_id': '57754548-f2f2-4f97-8138-44f55b35ca58',\n",
       "     'data_type': 'Raw Simple Somatic Mutation',\n",
       "     'data_category': 'Simple Nucleotide Variation',\n",
       "     'file_size': 35138}],\n",
       "   'workflow_type': 'MuSE'}],\n",
       " 'analysis': {'workflow_version': 'cde5c3998b3d5c8651749b0e1bad3f432ec5b92e',\n",
       "  'metadata': {'read_groups': [{'sequencing_date': '2014-10-19T07',\n",
       "     'library_name': 'TLVR.DD-AAW1-10A-N_1AMP',\n",
       "     'sequencing_center': 'BCM',\n",
       "     'is_paired_end': True,\n",
       "     'read_length': 101,\n",
       "     'read_group_id': '3e297c32-55c6-4deb-88df-759939234ddb'}]},\n",
       "  'updated_datetime': '2022-01-29T15:58:25.988703-06:00',\n",
       "  'workflow_link': 'https://github.com/NCI-GDC/gdc-dnaseq-cwl/blob/cde5c3998b3d5c8651749b0e1bad3f432ec5b92e/workflows/gdc_dnaseq.bamfastq_align.workflow.cwl',\n",
       "  'submitter_id': '96e52180-5745-4130-a3c6-cc8c9de17530_bwa_with_mark_duplicates_and_bqsr',\n",
       "  'state': 'released',\n",
       "  'workflow_type': 'BWA with Mark Duplicates and BQSR',\n",
       "  'analysis_id': 'cdafc831-c546-4820-8837-257ca4faf46b',\n",
       "  'created_datetime': '2022-01-25T19:26:50.183661-06:00'},\n",
       " 'platform': 'Illumina',\n",
       " 'index_files': [{'file_id': '62c0d93c-acca-4506-b640-aff08e820ad2'}],\n",
       " 'file_size': 21510448110,\n",
       " 'md5sum': '098e50318beda68f7984ec5a68c3c655',\n",
       " 'file_id': '2b48029a-0c8a-40e6-a2ba-2ed49593d321',\n",
       " 'data_type': 'Aligned Reads',\n",
       " 'state': 'released',\n",
       " 'experimental_strategy': 'WXS'}"
      ]
     },
     "execution_count": 34,
     "metadata": {},
     "output_type": "execute_result"
    }
   ],
   "source": [
    "metadata[0]"
   ]
  },
  {
   "cell_type": "code",
   "execution_count": 35,
   "id": "06526aec-bcbd-477e-b15c-ea282613a37d",
   "metadata": {
    "tags": []
   },
   "outputs": [],
   "source": [
    "case_dikts = []\n",
    "for case_id in case_ids:\n",
    "    case_dikt = None\n",
    "    \n",
    "    for entry in metadata:\n",
    "            if (case_dikt is None):\n",
    "                entry_case_id = entry['associated_entities'][0]['case_id']\n",
    "                if (case_id == entry_case_id):\n",
    "                        size = round(float(entry['file_size'])/(10**9),1)\n",
    "                        \n",
    "                        case_dikt = {}\n",
    "                        case_dikt['case_id']     = case_id\n",
    "                        case_dikt['file_id']     = entry['file_id']\n",
    "                        case_dikt['file_name']   = entry['file_name']\n",
    "                        case_dikt['size_bam_GB'] = size\n",
    "\n",
    "    if (case_dikt is None):\n",
    "        print(case_id)\n",
    "        # raise Exception(f\"no match found for case_id: {case_id}\")\n",
    "    else:\n",
    "        case_dikts.append(case_dikt)"
   ]
  },
  {
   "cell_type": "code",
   "execution_count": 36,
   "id": "2b6050ca-9bb3-4199-8d2d-2bdf2de1d1f9",
   "metadata": {
    "tags": []
   },
   "outputs": [
    {
     "data": {
      "text/plain": [
       "109"
      ]
     },
     "execution_count": 36,
     "metadata": {},
     "output_type": "execute_result"
    }
   ],
   "source": [
    "len(case_dikts)"
   ]
  },
  {
   "cell_type": "code",
   "execution_count": 37,
   "id": "d1946c8a-965a-444e-8ad7-1a1b6bfc4c58",
   "metadata": {
    "tags": []
   },
   "outputs": [
    {
     "data": {
      "text/plain": [
       "{'case_id': '0004d251-3f70-4395-b175-c94c2f5b1b81',\n",
       " 'file_id': '83f5edc7-c91c-453c-8c21-3519d63c2049',\n",
       " 'file_name': 'c86ff390-e3fe-44f9-8f26-e7c7dd6c5536_wxs_gdc_realn.bam',\n",
       " 'size_bam_GB': 16.0}"
      ]
     },
     "execution_count": 37,
     "metadata": {},
     "output_type": "execute_result"
    }
   ],
   "source": [
    "case_dikts[0]"
   ]
  },
  {
   "cell_type": "code",
   "execution_count": 38,
   "id": "b176b0e0-480b-4477-b6eb-fcf8eed5e93d",
   "metadata": {
    "tags": []
   },
   "outputs": [],
   "source": [
    "df_manifest = pd.DataFrame.from_dict(case_dikts)"
   ]
  },
  {
   "cell_type": "markdown",
   "id": "bca1b54d-e006-4cd5-af3e-0b0b953c38f9",
   "metadata": {
    "tags": []
   },
   "source": [
    "Boolean values get weird when any non-boolean values are used alongside them"
   ]
  },
  {
   "cell_type": "code",
   "execution_count": 39,
   "id": "c8d4e8e7-b537-4416-bc94-8d82f23abef0",
   "metadata": {
    "tags": []
   },
   "outputs": [],
   "source": [
    "df_manifest['downloaded']  = 'no' # we will introduce a text-based 'checked_out' status later\n",
    "df_manifest['called']      = 'no'\n",
    "df_manifest['annotated']   = 'no'\n",
    "df_manifest['qc']          = 'no'\n",
    "df_manifest['size_vcf_MB'] = None"
   ]
  },
  {
   "cell_type": "markdown",
   "id": "ba9388fd-3434-4dda-89f3-959e0baec5c8",
   "metadata": {
    "tags": []
   },
   "source": [
    "---"
   ]
  },
  {
   "cell_type": "markdown",
   "id": "f376ad96-f535-4f54-9d7c-5bda1775965c",
   "metadata": {
    "tags": []
   },
   "source": [
    "For prototyping the differentiation scripts"
   ]
  },
  {
   "cell_type": "code",
   "execution_count": 40,
   "id": "bb9f79c4-fd9d-4f0a-88f2-6e9c96765808",
   "metadata": {
    "tags": []
   },
   "outputs": [],
   "source": [
    "df_clinical = pd.read_csv('/mnt/4TB/TCGA_Liver/scripts/2-clinical/2-select.csv')"
   ]
  },
  {
   "cell_type": "code",
   "execution_count": 41,
   "id": "8c1b7ae7-a177-438e-a171-8c1ba803da6e",
   "metadata": {
    "tags": []
   },
   "outputs": [],
   "source": [
    "cases_alive = df_clinical[df_clinical['vital_status']=='Alive']['case_id'].tolist()"
   ]
  },
  {
   "cell_type": "code",
   "execution_count": 42,
   "id": "27bff6e6-458d-4a79-8468-5f2f97bc979b",
   "metadata": {
    "tags": []
   },
   "outputs": [
    {
     "data": {
      "text/plain": [
       "44"
      ]
     },
     "execution_count": 42,
     "metadata": {},
     "output_type": "execute_result"
    }
   ],
   "source": [
    "len(cases_alive)"
   ]
  },
  {
   "cell_type": "code",
   "execution_count": 43,
   "id": "e351c7cf-288b-4ac2-b0fc-0d0be51a5eef",
   "metadata": {
    "tags": []
   },
   "outputs": [],
   "source": [
    "df_manifest['vital_status'] = 'Dead'"
   ]
  },
  {
   "cell_type": "code",
   "execution_count": 44,
   "id": "4b5fd743-fd94-4810-8ebd-e7030baa9a8c",
   "metadata": {
    "tags": []
   },
   "outputs": [],
   "source": [
    "df_manifest.loc[df_manifest['case_id'].isin(cases_alive), 'vital_status'] = 'Alive'"
   ]
  },
  {
   "cell_type": "code",
   "execution_count": 45,
   "id": "79bc2774-776b-4809-ab71-6169c2bcf8b1",
   "metadata": {
    "tags": []
   },
   "outputs": [
    {
     "data": {
      "text/plain": [
       "Dead     65\n",
       "Alive    44\n",
       "Name: vital_status, dtype: int64"
      ]
     },
     "execution_count": 45,
     "metadata": {},
     "output_type": "execute_result"
    }
   ],
   "source": [
    "df_manifest['vital_status'].value_counts()"
   ]
  },
  {
   "cell_type": "markdown",
   "id": "509a8b01-c288-4d54-8c61-986339d065fa",
   "metadata": {
    "tags": []
   },
   "source": [
    "---"
   ]
  },
  {
   "cell_type": "markdown",
   "id": "245747ee-09d2-4777-ac28-6a185eb34d15",
   "metadata": {
    "tags": []
   },
   "source": [
    "For prototyping handling allosomes"
   ]
  },
  {
   "cell_type": "code",
   "execution_count": 46,
   "id": "637edcc6-a8c9-4905-9e39-33a534b69dae",
   "metadata": {
    "tags": []
   },
   "outputs": [],
   "source": [
    "cases_female = df_clinical[df_clinical['gender']=='female']['case_id'].tolist()"
   ]
  },
  {
   "cell_type": "code",
   "execution_count": 47,
   "id": "a81b75ad-babb-4aec-9db0-ed811f494ce9",
   "metadata": {
    "tags": []
   },
   "outputs": [
    {
     "data": {
      "text/plain": [
       "32"
      ]
     },
     "execution_count": 47,
     "metadata": {},
     "output_type": "execute_result"
    }
   ],
   "source": [
    "len(cases_female)"
   ]
  },
  {
   "cell_type": "code",
   "execution_count": 48,
   "id": "1cdadc96-0d7b-4f7b-a412-e91c6ced7ce3",
   "metadata": {
    "tags": []
   },
   "outputs": [],
   "source": [
    "df_manifest['gender'] = 'male'"
   ]
  },
  {
   "cell_type": "code",
   "execution_count": 49,
   "id": "e1b959b1-80b2-4973-a255-4cf4d660db72",
   "metadata": {
    "tags": []
   },
   "outputs": [],
   "source": [
    "df_manifest.loc[df_manifest['case_id'].isin(cases_female), 'gender'] = 'female'"
   ]
  },
  {
   "cell_type": "markdown",
   "id": "fb77fc21-7b9c-4b74-aa72-f662afc5b9fb",
   "metadata": {
    "tags": []
   },
   "source": [
    "---"
   ]
  },
  {
   "cell_type": "markdown",
   "id": "cddb16d2-f34f-4806-8c29-828d31f4848d",
   "metadata": {
    "tags": []
   },
   "source": [
    "Commenting this out so that the manifest doesn't get wiped by accident"
   ]
  },
  {
   "cell_type": "code",
   "execution_count": 53,
   "id": "92053ba3-620d-487f-bf04-13dd87457fb8",
   "metadata": {
    "tags": []
   },
   "outputs": [],
   "source": [
    "df_manifest.to_csv('1-manifest.csv', index=False)"
   ]
  },
  {
   "cell_type": "markdown",
   "id": "6d7dea37-5578-4113-a038-f1234d5b5a05",
   "metadata": {
    "tags": []
   },
   "source": [
    "---"
   ]
  },
  {
   "cell_type": "markdown",
   "id": "f52f2590-3a23-434c-9564-346727ddb46b",
   "metadata": {
    "tags": []
   },
   "source": [
    "Figuring out container size for job"
   ]
  },
  {
   "cell_type": "code",
   "execution_count": 51,
   "id": "6775eeec-85e5-446a-8448-68be786f7e38",
   "metadata": {
    "tags": []
   },
   "outputs": [
    {
     "data": {
      "text/plain": [
       "count    109.000000\n",
       "mean      21.273394\n",
       "std        7.596328\n",
       "min       13.100000\n",
       "25%       16.900000\n",
       "50%       19.800000\n",
       "75%       21.600000\n",
       "max       49.600000\n",
       "Name: size_bam_GB, dtype: float64"
      ]
     },
     "execution_count": 51,
     "metadata": {},
     "output_type": "execute_result"
    }
   ],
   "source": [
    "df_manifest['size_bam_GB'].describe()"
   ]
  },
  {
   "cell_type": "code",
   "execution_count": 52,
   "id": "718cd7f1-85ea-4930-818a-18f4e2aa1dc8",
   "metadata": {
    "tags": []
   },
   "outputs": [
    {
     "data": {
      "text/plain": [
       "['83f5edc7-c91c-453c-8c21-3519d63c2049',\n",
       " '36e340e3-b6c2-416c-ba4e-72fb08101902',\n",
       " '4ac8b0a1-7189-4f66-b81e-2bbec2177da2',\n",
       " '4822b3f2-9507-4eda-bafd-54180b51a923',\n",
       " '127bca9f-ef8e-4f57-88f3-337316c133a6',\n",
       " 'aef22fa7-3523-4b6a-aefd-25c4ff4b8b89',\n",
       " 'fd1fcda0-1ddb-4529-9167-882f27cb55a6',\n",
       " 'b2988829-a865-459e-a429-1a862a90caf0',\n",
       " 'c1b72ba1-cbd9-4a2f-8021-700d8280762f',\n",
       " '2b48029a-0c8a-40e6-a2ba-2ed49593d321',\n",
       " '599b3e0b-7266-4ffb-a66c-f9419f19cfa2',\n",
       " '7610e1fe-19bd-42e5-83c3-c94f963c7073',\n",
       " '1c90a4ff-9be7-4504-a32e-103b4222eeba',\n",
       " 'e096c2a4-d2c0-41ea-9816-8f9c6ab9d08d',\n",
       " '741a0a0e-05e4-4416-bfaa-5b5227d9f0c3',\n",
       " '0cbe00aa-9e39-481d-b406-f40a632867a6',\n",
       " '352db63b-1310-4973-8963-917764a381ee',\n",
       " '775c8434-b0d7-44f2-a202-9c9e9a4291cd',\n",
       " 'e10f7cb0-f800-4c3a-a6e4-ddb838015b04',\n",
       " '7c9d4303-ad33-4253-b1ee-0688129c8646',\n",
       " '54e26323-bee2-4e25-ab7a-3dfd40f900ab',\n",
       " 'a6c4b90a-063c-45aa-9ffc-08b51ede2a42',\n",
       " '1d886cbc-6654-4145-aff1-ac910aac41d7',\n",
       " '9f2e96bd-b555-4438-980b-45e4443284a5',\n",
       " '62670acf-a512-4059-bac5-197611764fef',\n",
       " '78da7ea3-12e3-4bd2-a3fb-2fa66023e5da',\n",
       " '3e7c27d4-4f27-4e36-a9ba-7d2c911e2822',\n",
       " 'b59d6106-7710-43de-93a9-d3606f541305',\n",
       " '88ac569b-d243-4604-869d-3e6ac91418a7',\n",
       " '8d451d40-78d8-4323-950c-66bfdf1445ef',\n",
       " '72679d0a-6147-455b-a364-a1f83fa36f53',\n",
       " '3606aeab-487a-4035-be29-7af52f508579',\n",
       " '74df40f3-a9d3-4695-b14e-f26d49a53b4f',\n",
       " 'fd81ee70-ba06-4337-9a22-fa6afb23c378',\n",
       " '87482d4b-afc4-4ac9-9dad-9e68b9386067',\n",
       " '6fa8a6ee-6f2f-4f83-b13c-3a2f8892c356',\n",
       " '68ec286d-32e1-4451-9538-c44b0bb39642',\n",
       " 'bff9a3e1-3233-411a-a22e-429270814a18',\n",
       " 'e27e35c3-7811-45ef-9eeb-e337a62e2e7b',\n",
       " 'fc04ad22-673f-480c-947b-1c0c00e24d75',\n",
       " '315dce5d-e549-49be-9776-61131bd61ccd',\n",
       " '9da9a79b-30b4-4a75-87cd-adb4bde51ca1',\n",
       " '3a019e40-4291-4ae8-b0df-b4d8078c200d',\n",
       " '50e73d6a-6391-4676-b347-de38d2ba0d9e',\n",
       " 'b96b36f5-85c1-4172-912a-8a25143c2ddf',\n",
       " '88e79a25-6023-4bdc-9efe-13ecd49736d8',\n",
       " '2fb1b942-93d6-4740-86d2-297a16335a40',\n",
       " '479ecca8-e700-4654-b8bf-8648a283a2d8',\n",
       " '96141883-0388-46ac-95e2-54ce3a4dbb23',\n",
       " '2ae60d85-3847-4aac-b197-41412246c8d3',\n",
       " '51bcd0ec-922e-40e5-9a81-d9509a61734d',\n",
       " '33073098-c02f-45e5-af9f-4afa6f814e2f',\n",
       " '48346875-9aa8-4736-ad41-acbbff2a844e',\n",
       " 'a4af3a0a-9c0d-4e76-8bca-fb8a9328ae33',\n",
       " '51347435-6da7-40c6-9e0d-6f1c64362a8f',\n",
       " '0e084517-3dee-4822-a24a-ae964b8f1b81',\n",
       " 'f779210d-e1c6-4712-b8b7-bd9c9214419e',\n",
       " '3b2b11a7-6fd3-442c-aa3c-83b2c54ca050',\n",
       " '8b2b622c-8d20-4fe2-a3a8-15d4b0933bd0',\n",
       " 'ddd79ad6-b508-444c-9fd9-1382ca73fec4',\n",
       " '21f7ffa5-c48c-44a4-9857-47313141fbfd',\n",
       " '5bab0823-4cef-48e5-80c4-1c34f4ed11e2',\n",
       " '234e8ba4-79d6-48f7-9ddb-1bc5ae62b53e',\n",
       " 'b0396817-b1a3-4993-8d60-09bf304acb24',\n",
       " 'b7f93dde-32ed-4444-a855-a23627ab3793',\n",
       " 'c7c488b3-d302-4b96-b15a-4f41ccf68edc',\n",
       " '6eba3bba-edba-4648-8d8a-6ff989543ad6',\n",
       " 'f2476f64-e967-4341-b01e-a7fc6091ed67',\n",
       " '633b26b0-996b-4eae-884e-75a88e75f24b',\n",
       " 'c0e3e2e4-65ef-4de6-83eb-1e195ba57e86',\n",
       " '634e2050-8d21-4d4b-b1c2-40b3a87cf0eb',\n",
       " '0d8b848b-3c9b-446e-875a-0136c88a714c',\n",
       " '33ac5570-dc90-45c7-a1dc-96722165e637',\n",
       " 'ba86ba67-d4ed-42fc-be64-7760b874e05e',\n",
       " '5e555868-fcb0-45f0-bff7-7fa9d0fd2b38',\n",
       " 'c3b2b6f6-5b1c-4fa3-bd40-6bb626050344',\n",
       " 'b51dfa88-48cb-4325-869f-3b63068fe948',\n",
       " 'f5a8bc77-15e6-40da-b3ab-39aaec196bcd',\n",
       " '4fe4f755-41fb-4427-9ec4-ab2851530770',\n",
       " 'd6d046b0-aa10-4b02-add6-bead5bfd2358',\n",
       " '8175dd45-0264-48a8-835a-ca223d7af251',\n",
       " '266e67e1-1ecb-437b-9a23-8d8059c1a30c',\n",
       " '594f7f1b-b369-4a8e-ad09-c4e20967f8bd',\n",
       " '18f85d8f-2a43-4741-a666-3747ce800309',\n",
       " 'd7fa1bf1-b7cd-4743-96df-9ee1cf2a1154',\n",
       " '1f8d082a-8e59-436d-8fcb-5954b3043f3c',\n",
       " '105a0e06-c760-4beb-bb37-0d626fb56284',\n",
       " 'f1218e5c-efcf-4e6c-a526-58623a256ff9',\n",
       " '5585df58-1ba6-48ad-912a-d4c06617b8fd',\n",
       " '2e2673f0-e53d-4abe-b3d0-15fb565deead',\n",
       " '36f7c00c-298a-4b14-95fa-3444c3a44550',\n",
       " '26d8a7bb-a849-4aca-9e4c-a4bc2c24f48b',\n",
       " 'b304b8b8-3c1b-4f1d-8294-9c28e9d907a1',\n",
       " '19dfcbf0-1728-4372-9189-5924c078f6f8',\n",
       " '4eef76b6-71e0-4f50-8add-7b04baae1acc',\n",
       " 'a008dae8-aa60-426c-8c83-9903d74057ae',\n",
       " '26ddab32-1cd2-4cca-acf5-bef35d20c15f',\n",
       " 'db698be3-9278-4808-8d5c-6332d0e2c915',\n",
       " '000691ba-5433-45c5-bc39-45b90a1553ad',\n",
       " 'fda27998-cbbd-4cdf-a92e-85172273bc58',\n",
       " '11e59c23-962b-4d93-b37e-f324a8f25914',\n",
       " 'd598c89d-ae7d-49dd-9dac-c18eb6a33d01',\n",
       " '971ec24c-b2fc-4cec-bf02-8938e8a3141c',\n",
       " 'e8eb909e-cb8f-429f-b58e-1db1c17f6875',\n",
       " 'b90c4c8d-0ac4-41d6-bc65-a528b0b8b89e',\n",
       " '39d897ea-13d7-4921-bdad-7282721fc99f',\n",
       " '03bf804c-f408-48a2-a8ec-642e97c19445',\n",
       " '64c8fe73-2455-4e22-a01c-d55b4584a273',\n",
       " '7dc70569-a250-447a-8483-53559c5189f0']"
      ]
     },
     "execution_count": 52,
     "metadata": {},
     "output_type": "execute_result"
    }
   ],
   "source": [
    "df_manifest['file_id'].tolist()"
   ]
  }
 ],
 "metadata": {
  "kernelspec": {
   "display_name": "Python 3 (ipykernel)",
   "language": "python",
   "name": "python3"
  },
  "language_info": {
   "codemirror_mode": {
    "name": "ipython",
    "version": 3
   },
   "file_extension": ".py",
   "mimetype": "text/x-python",
   "name": "python",
   "nbconvert_exporter": "python",
   "pygments_lexer": "ipython3",
   "version": "3.7.16"
  }
 },
 "nbformat": 4,
 "nbformat_minor": 5
}
