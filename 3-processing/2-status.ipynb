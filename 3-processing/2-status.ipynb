{
 "cells": [
  {
   "cell_type": "code",
   "execution_count": 15,
   "id": "96f74cf8-e2e8-41b4-a89c-2d7a642c33cc",
   "metadata": {
    "tags": []
   },
   "outputs": [
    {
     "data": {
      "text/plain": [
       "'/mnt/4TB/TCGA_Colorectal/scripts/3-processing'"
      ]
     },
     "execution_count": 15,
     "metadata": {},
     "output_type": "execute_result"
    }
   ],
   "source": [
    "pwd"
   ]
  },
  {
   "cell_type": "code",
   "execution_count": 2,
   "id": "e0a96e0f-ab24-4aeb-87d0-d621798e7094",
   "metadata": {
    "tags": []
   },
   "outputs": [],
   "source": [
    "import pandas as pd\n",
    "import json"
   ]
  },
  {
   "cell_type": "code",
   "execution_count": 3,
   "id": "4c2c947a-ee10-49b3-ba1a-6b100e913a1e",
   "metadata": {
    "tags": []
   },
   "outputs": [],
   "source": [
    "df = pd.read_csv('1-manifest.csv')"
   ]
  },
  {
   "cell_type": "code",
   "execution_count": 7,
   "id": "4c2db6a0-976a-41b5-9a12-adfcc81543e9",
   "metadata": {
    "tags": []
   },
   "outputs": [],
   "source": [
    "file_ids = df['file_id'].tolist()"
   ]
  },
  {
   "cell_type": "code",
   "execution_count": 8,
   "id": "ffb50d56-f324-42f1-9978-a5b01d7cd334",
   "metadata": {
    "tags": []
   },
   "outputs": [
    {
     "data": {
      "text/plain": [
       "True"
      ]
     },
     "execution_count": 8,
     "metadata": {},
     "output_type": "execute_result"
    }
   ],
   "source": [
    "len(file_ids) == len(set(file_ids))"
   ]
  },
  {
   "cell_type": "code",
   "execution_count": 9,
   "id": "c7e2ab16-43a6-4804-9db4-586eb905539b",
   "metadata": {
    "tags": []
   },
   "outputs": [
    {
     "data": {
      "text/plain": [
       "119"
      ]
     },
     "execution_count": 9,
     "metadata": {},
     "output_type": "execute_result"
    }
   ],
   "source": [
    "len(file_ids)"
   ]
  },
  {
   "cell_type": "code",
   "execution_count": 11,
   "id": "961eb609-e661-469a-84a3-ef9d483292e2",
   "metadata": {
    "tags": []
   },
   "outputs": [
    {
     "data": {
      "text/plain": [
       "['43cbb4c9-4dc8-4e7a-ac69-779f5a76dced',\n",
       " '89b770d2-f4ac-4a53-b1aa-4bbefccc6dff',\n",
       " '7f9e0853-64b8-4ab9-b5d0-ae2afeaacffd',\n",
       " '4b7a10e0-9247-49fd-a7df-784512d2cf4d',\n",
       " '2b6bc47d-ef24-418a-8e06-3cd762cde865',\n",
       " '29d360d3-a1a9-47c0-be00-30cbc9b97452',\n",
       " 'e5901ee5-7cc5-43b8-84fc-eb1ffa014ef0',\n",
       " '0c777419-2985-4da9-ad69-d0059a0f6604',\n",
       " '3a897b28-061a-47f7-bfa9-38f2783ac6c1',\n",
       " 'af415020-1b2a-48d9-9c30-867d537a21ea',\n",
       " 'b7789850-abd8-47ba-ac28-8d8481ad848e',\n",
       " 'a7ce2e65-c751-47a3-9cbd-83aeb1affaa0',\n",
       " '6abee7c6-8363-4f5f-a86b-61a00968e160',\n",
       " '5e7c2b08-0d66-480e-b0d6-d4811b13a441',\n",
       " '23e68184-9fcb-4476-b25f-42a00f35755b',\n",
       " '112db714-015f-4176-be5f-65261a74795d',\n",
       " 'd3814ba5-95d5-4b40-8281-6446bc28ad95',\n",
       " '7cd77f72-c62d-4a67-9d1e-7299c49c5f88',\n",
       " '1e7b341c-5681-4e89-9006-c48a4f83cc44',\n",
       " 'd4cf0dad-5990-4589-878a-0cfc07913705',\n",
       " '7dc7cf79-d69c-4fd5-8fc8-1e55a6c0fa81',\n",
       " '76e2d1d6-e4dd-4bd0-bb0c-9df2e87dd279',\n",
       " 'd34e1265-0202-45d5-8bf4-d286037c1bb7',\n",
       " '5b4df08c-f39c-4ca5-91f4-3369d75f0965',\n",
       " '9b4b3efa-e823-4979-86ef-bc1ee47be49f',\n",
       " '7a21ee8c-3db4-4223-b57d-33f09156320c',\n",
       " '1bb6a101-5e98-41bf-b354-e3c14b5d77f3',\n",
       " '817855da-f0e1-49d7-b2ae-8f68fef5683e',\n",
       " 'd4b9e53f-51a4-46c9-bc9a-c2c93f10bb12',\n",
       " '872677b0-55fe-49a4-b4fd-ccbd96222fae',\n",
       " '26065da8-4518-4992-b03d-6a0a8764bea1',\n",
       " '0b361054-3f99-43e9-9507-cffe06bc78ef',\n",
       " '11c817af-0717-4f15-b8c0-7f804e410945',\n",
       " 'ee971de3-d1b3-4835-b386-0432bce32e4a',\n",
       " 'e6a62c25-eca0-4a57-a26c-bfbe4aaf5c6a',\n",
       " 'fc94ee73-59bf-4b59-839a-c1c9ac35005c',\n",
       " '2643caaf-458b-41bb-9cdd-d0c2745fadaa',\n",
       " '8d96fe4d-43ac-479d-a43a-567e498ecd5d',\n",
       " 'c3543ecc-8ca6-40f6-b37c-2b7b02538f99',\n",
       " 'fff07656-a130-414d-928b-86ba9e539ca5',\n",
       " '1a37fe6f-b769-4eef-8d75-02cdffd65344',\n",
       " 'eebeab50-a3b8-4310-a612-d51b4cabe4b5',\n",
       " 'a126efc6-a9b6-4173-b7c3-d61716ac68b6',\n",
       " '50d854bc-de8a-4835-a9b4-c6ff940fe9d4',\n",
       " '0077cae7-0ceb-46a3-b719-dfc3cc60de89',\n",
       " 'f6166320-0275-4d03-befe-b3c0b5bc151e',\n",
       " '260b737d-06c7-41ee-a563-2c3d889172f6',\n",
       " '0e0d03f7-b384-4db3-b18c-10b159c2666c',\n",
       " '8cfa5c60-b516-4284-9987-a1870ae20eb2',\n",
       " '281826e8-da01-4ff0-981f-76c8c66a4c89',\n",
       " '1b823da0-ae85-4f9a-9a0a-000e28990f4f',\n",
       " '6deee28d-042e-48eb-8b54-747c4f3da563',\n",
       " '587d6278-a3b9-454a-82a2-bdf1176b476b',\n",
       " 'c851ab35-43ef-4ff2-b55c-31fbbd8524de',\n",
       " 'cc1ceea9-ab96-442c-ad94-3b55eed0cd71',\n",
       " '7db082c6-a698-4874-83b2-e8c737d75124',\n",
       " '19e95504-aa19-419e-b0cb-ceefe3f85bba',\n",
       " '42f316a9-da76-4473-9f91-8b864cca7086',\n",
       " '8a607f88-6168-40ea-8a39-4cfed9a09085',\n",
       " '6a8ae18f-b53a-45f6-9dab-36c9c45e2615',\n",
       " '2030fca2-f877-4634-9ebb-4bab51b197fa',\n",
       " 'e87f75fe-2607-48eb-bae4-d056a7ceb1e3',\n",
       " 'f578893c-7000-4982-b0cb-351329ccadeb',\n",
       " '574cf91b-e365-4a4e-9a94-7e31f048b678',\n",
       " 'bd48ea03-847b-4357-9641-a6126cabf2dd',\n",
       " '775a4310-1be4-49a3-9fdd-6dc0609dc7fa',\n",
       " 'f29712c2-8c72-4e9d-8d4b-3f4f01cf4830',\n",
       " 'a068bdc0-ce35-40bc-a894-28de7cc33723',\n",
       " '739d1096-ede7-49b7-abaa-4bf5f617c8eb',\n",
       " 'c7e30f0f-3487-4f84-a4ad-1237b19dc2d0',\n",
       " '783925de-7404-4ac5-a054-c51bcbaac0b2',\n",
       " 'a8e34760-a141-49a3-ae68-5726bdf6ddf7',\n",
       " '13d73368-58d6-443e-aa28-19b163bd61ba',\n",
       " '16fde845-cf20-4edc-80fe-d3600eafeb14',\n",
       " 'd36fc70f-2d9c-4d84-a797-dcb29fad2ab4',\n",
       " '1609f3c1-1708-47ed-8913-9b0f3a6d750f',\n",
       " 'db54be6a-078c-48f5-a191-d720c4c4ebe1',\n",
       " '015ee9fc-163f-4193-8d8b-9cf452c3aad1',\n",
       " '865aa015-af44-4e21-9b69-7c23701e684b',\n",
       " 'f63b6470-0a76-44b5-bcaa-b014b9e139f5',\n",
       " 'f8efebcc-b4ed-434a-a402-28dfe22edf0c',\n",
       " 'ba0dea6b-43e4-4749-a1a8-70e3d6d729a1',\n",
       " '1a78d1b5-2b5e-4eef-a790-402ca99148f0',\n",
       " '41b13180-61cc-4313-8f7a-4c29195a1f2b',\n",
       " '5d970a3d-5e2e-4a0a-a234-ff20e55a662a',\n",
       " 'd7884f90-90db-4cab-843a-adc9e8c706f4',\n",
       " '0d442232-62ee-476c-baa8-c36971e1bd0c',\n",
       " 'b194fa38-83a1-408a-9f7f-7916c10b78b6',\n",
       " '89fa728b-b86e-45d6-a4d1-0fe4acce88c4',\n",
       " '5fefc6f1-cfb1-435d-98ff-5134368a84b4',\n",
       " 'a9c6aeb6-ae31-4adc-9aa4-029be1330f37',\n",
       " 'a0ae88d2-f3a5-43aa-98cc-7130d3f1b1bc',\n",
       " '4486051e-0bb3-4356-8d25-6e5afeff0f2d',\n",
       " '93098baf-6ae2-4935-a24b-a325dead3ea7',\n",
       " '6127dfd6-2494-4363-a836-5d822a912475',\n",
       " 'c5c173cb-49fd-441e-911b-b6182c4ea07a',\n",
       " 'c84ba90a-411c-4817-902b-3c2070493eac',\n",
       " 'bae3fce1-cd9f-42e7-a483-24ea16e9fac7',\n",
       " 'a47265cb-2bdf-488f-a132-15934c7bbe71',\n",
       " '9cab02f2-e727-412a-a48b-55cf9ff8c8c6',\n",
       " '313e72ff-1227-4cb2-9066-812a4248f6e4',\n",
       " '351952ea-72b9-4669-bf14-68e10c24951c',\n",
       " 'd856f727-1489-41d8-aa76-00fb4f4aeec1',\n",
       " '67e5e8b5-baa2-46e5-80cd-65deaae0c8b5',\n",
       " 'bd5d5ba8-bb0a-44e8-aba8-ca76c8dbc597',\n",
       " 'f65de41b-62c7-41c6-84c7-c63f8c422cf5',\n",
       " 'ee6d6dfa-c2f8-47d2-9301-19d3389e7b60',\n",
       " '239d7b0d-458d-4305-b4e0-4f20fc73b263',\n",
       " '207444dd-465a-438e-8c72-51b679000841',\n",
       " '724b3947-d099-490d-bcee-1366e7188138',\n",
       " 'ef5e4b13-97f4-4407-83dc-9cefed005a48',\n",
       " '79699356-bfcd-4f1d-92f0-4ff4e8484c13',\n",
       " '5c99f5fd-ee2a-4c70-8af1-d556ee80f678',\n",
       " 'aa4a4861-6c6c-4d76-8ff0-f7e7b43a6597',\n",
       " 'f7be8212-9d8e-46bb-9752-a1e0fe5b47fd',\n",
       " '5011b416-627a-4cbc-87c0-9f23702e1e8b',\n",
       " '0bf09a58-7357-4376-a927-89d54d510537',\n",
       " 'b9f0470e-7282-4dd2-9b1a-d2b879736d19',\n",
       " '76706760-5247-4491-8ad5-a8ebb973a4cc']"
      ]
     },
     "execution_count": 11,
     "metadata": {},
     "output_type": "execute_result"
    }
   ],
   "source": [
    "file_ids"
   ]
  }
 ],
 "metadata": {
  "kernelspec": {
   "display_name": "Python 3 (ipykernel)",
   "language": "python",
   "name": "python3"
  },
  "language_info": {
   "codemirror_mode": {
    "name": "ipython",
    "version": 3
   },
   "file_extension": ".py",
   "mimetype": "text/x-python",
   "name": "python",
   "nbconvert_exporter": "python",
   "pygments_lexer": "ipython3",
   "version": "3.7.16"
  }
 },
 "nbformat": 4,
 "nbformat_minor": 5
}
